{
 "cells": [
  {
   "cell_type": "markdown",
   "id": "b44a8d72-44bf-4387-978b-94d6db6017ab",
   "metadata": {},
   "source": [
    "# 0. Install dependencies"
   ]
  },
  {
   "cell_type": "code",
   "execution_count": 1,
   "id": "41132aec-c296-4715-8057-b97e88935b5a",
   "metadata": {},
   "outputs": [],
   "source": [
    "import os\n",
    "import pandas as pd\n",
    "import tensorflow as tf\n",
    "import numpy as np"
   ]
  },
  {
   "cell_type": "code",
   "execution_count": 4,
   "id": "2bff0c06-ea93-4a90-a0c8-a4009e150518",
   "metadata": {},
   "outputs": [],
   "source": [
    "df = pd.read_csv(os.path.join('data/jigsaw-toxic-comment-classification-challenge', 'train.csv'))"
   ]
  },
  {
   "cell_type": "code",
   "execution_count": 5,
   "id": "3b22ea8f-60fd-4be7-a0e8-c36ebd2953e8",
   "metadata": {},
   "outputs": [
    {
     "data": {
      "text/html": [
       "<div>\n",
       "<style scoped>\n",
       "    .dataframe tbody tr th:only-of-type {\n",
       "        vertical-align: middle;\n",
       "    }\n",
       "\n",
       "    .dataframe tbody tr th {\n",
       "        vertical-align: top;\n",
       "    }\n",
       "\n",
       "    .dataframe thead th {\n",
       "        text-align: right;\n",
       "    }\n",
       "</style>\n",
       "<table border=\"1\" class=\"dataframe\">\n",
       "  <thead>\n",
       "    <tr style=\"text-align: right;\">\n",
       "      <th></th>\n",
       "      <th>id</th>\n",
       "      <th>comment_text</th>\n",
       "      <th>toxic</th>\n",
       "      <th>severe_toxic</th>\n",
       "      <th>obscene</th>\n",
       "      <th>threat</th>\n",
       "      <th>insult</th>\n",
       "      <th>identity_hate</th>\n",
       "    </tr>\n",
       "  </thead>\n",
       "  <tbody>\n",
       "    <tr>\n",
       "      <th>0</th>\n",
       "      <td>0000997932d777bf</td>\n",
       "      <td>Explanation\\nWhy the edits made under my usern...</td>\n",
       "      <td>0</td>\n",
       "      <td>0</td>\n",
       "      <td>0</td>\n",
       "      <td>0</td>\n",
       "      <td>0</td>\n",
       "      <td>0</td>\n",
       "    </tr>\n",
       "    <tr>\n",
       "      <th>1</th>\n",
       "      <td>000103f0d9cfb60f</td>\n",
       "      <td>D'aww! He matches this background colour I'm s...</td>\n",
       "      <td>0</td>\n",
       "      <td>0</td>\n",
       "      <td>0</td>\n",
       "      <td>0</td>\n",
       "      <td>0</td>\n",
       "      <td>0</td>\n",
       "    </tr>\n",
       "    <tr>\n",
       "      <th>2</th>\n",
       "      <td>000113f07ec002fd</td>\n",
       "      <td>Hey man, I'm really not trying to edit war. It...</td>\n",
       "      <td>0</td>\n",
       "      <td>0</td>\n",
       "      <td>0</td>\n",
       "      <td>0</td>\n",
       "      <td>0</td>\n",
       "      <td>0</td>\n",
       "    </tr>\n",
       "    <tr>\n",
       "      <th>3</th>\n",
       "      <td>0001b41b1c6bb37e</td>\n",
       "      <td>\"\\nMore\\nI can't make any real suggestions on ...</td>\n",
       "      <td>0</td>\n",
       "      <td>0</td>\n",
       "      <td>0</td>\n",
       "      <td>0</td>\n",
       "      <td>0</td>\n",
       "      <td>0</td>\n",
       "    </tr>\n",
       "    <tr>\n",
       "      <th>4</th>\n",
       "      <td>0001d958c54c6e35</td>\n",
       "      <td>You, sir, are my hero. Any chance you remember...</td>\n",
       "      <td>0</td>\n",
       "      <td>0</td>\n",
       "      <td>0</td>\n",
       "      <td>0</td>\n",
       "      <td>0</td>\n",
       "      <td>0</td>\n",
       "    </tr>\n",
       "  </tbody>\n",
       "</table>\n",
       "</div>"
      ],
      "text/plain": [
       "                 id                                       comment_text  toxic  \\\n",
       "0  0000997932d777bf  Explanation\\nWhy the edits made under my usern...      0   \n",
       "1  000103f0d9cfb60f  D'aww! He matches this background colour I'm s...      0   \n",
       "2  000113f07ec002fd  Hey man, I'm really not trying to edit war. It...      0   \n",
       "3  0001b41b1c6bb37e  \"\\nMore\\nI can't make any real suggestions on ...      0   \n",
       "4  0001d958c54c6e35  You, sir, are my hero. Any chance you remember...      0   \n",
       "\n",
       "   severe_toxic  obscene  threat  insult  identity_hate  \n",
       "0             0        0       0       0              0  \n",
       "1             0        0       0       0              0  \n",
       "2             0        0       0       0              0  \n",
       "3             0        0       0       0              0  \n",
       "4             0        0       0       0              0  "
      ]
     },
     "execution_count": 5,
     "metadata": {},
     "output_type": "execute_result"
    }
   ],
   "source": [
    "df.head()"
   ]
  },
  {
   "cell_type": "code",
   "execution_count": 13,
   "id": "71f13a9d-0d05-43b5-805d-467ac486352a",
   "metadata": {},
   "outputs": [
    {
     "data": {
      "text/plain": [
       "'\"\\n\\nJuelz Santanas Age\\n\\nIn 2002, Juelz Santana was 18 years old, then came February 18th, which makes Juelz turn 19 making songs with The Diplomats. The third neff to be signed to Cam\\'s label under Roc A Fella. In 2003, he was 20 years old coming out with his own singles \"\"Santana\\'s Town\"\" and \"\"Down\"\". So yes, he is born in 1983. He really is, how could he be older then Lloyd Banks? And how could he be 22 when his birthday passed? The homie neff is 23 years old. 1983 - 2006 (Juelz death, god forbid if your thinking about that) equals 23. Go to your caculator and stop changing his year of birth. My god.\"'"
      ]
     },
     "execution_count": 13,
     "metadata": {},
     "output_type": "execute_result"
    }
   ],
   "source": [
    "df.iloc[15]['comment_text']"
   ]
  },
  {
   "cell_type": "code",
   "execution_count": 11,
   "id": "b7b789d2-8df2-4cd9-9f63-cb18cb408c92",
   "metadata": {},
   "outputs": [
    {
     "data": {
      "text/plain": [
       "toxic            0\n",
       "severe_toxic     0\n",
       "obscene          0\n",
       "threat           0\n",
       "insult           0\n",
       "identity_hate    0\n",
       "Name: 3, dtype: int64"
      ]
     },
     "execution_count": 11,
     "metadata": {},
     "output_type": "execute_result"
    }
   ],
   "source": [
    "# Getting all the column labels for 1 comment\n",
    "df[df.columns[2:]].iloc[3]"
   ]
  },
  {
   "cell_type": "code",
   "execution_count": 14,
   "id": "82892d54-ecfb-4bcc-a0aa-92480e33fb6c",
   "metadata": {},
   "outputs": [
    {
     "data": {
      "text/html": [
       "<div>\n",
       "<style scoped>\n",
       "    .dataframe tbody tr th:only-of-type {\n",
       "        vertical-align: middle;\n",
       "    }\n",
       "\n",
       "    .dataframe tbody tr th {\n",
       "        vertical-align: top;\n",
       "    }\n",
       "\n",
       "    .dataframe thead th {\n",
       "        text-align: right;\n",
       "    }\n",
       "</style>\n",
       "<table border=\"1\" class=\"dataframe\">\n",
       "  <thead>\n",
       "    <tr style=\"text-align: right;\">\n",
       "      <th></th>\n",
       "      <th>id</th>\n",
       "      <th>comment_text</th>\n",
       "      <th>toxic</th>\n",
       "      <th>severe_toxic</th>\n",
       "      <th>obscene</th>\n",
       "      <th>threat</th>\n",
       "      <th>insult</th>\n",
       "      <th>identity_hate</th>\n",
       "    </tr>\n",
       "  </thead>\n",
       "  <tbody>\n",
       "    <tr>\n",
       "      <th>6</th>\n",
       "      <td>0002bcb3da6cb337</td>\n",
       "      <td>COCKSUCKER BEFORE YOU PISS AROUND ON MY WORK</td>\n",
       "      <td>1</td>\n",
       "      <td>1</td>\n",
       "      <td>1</td>\n",
       "      <td>0</td>\n",
       "      <td>1</td>\n",
       "      <td>0</td>\n",
       "    </tr>\n",
       "    <tr>\n",
       "      <th>12</th>\n",
       "      <td>0005c987bdfc9d4b</td>\n",
       "      <td>Hey... what is it..\\n@ | talk .\\nWhat is it......</td>\n",
       "      <td>1</td>\n",
       "      <td>0</td>\n",
       "      <td>0</td>\n",
       "      <td>0</td>\n",
       "      <td>0</td>\n",
       "      <td>0</td>\n",
       "    </tr>\n",
       "    <tr>\n",
       "      <th>16</th>\n",
       "      <td>0007e25b2121310b</td>\n",
       "      <td>Bye! \\n\\nDon't look, come or think of comming ...</td>\n",
       "      <td>1</td>\n",
       "      <td>0</td>\n",
       "      <td>0</td>\n",
       "      <td>0</td>\n",
       "      <td>0</td>\n",
       "      <td>0</td>\n",
       "    </tr>\n",
       "    <tr>\n",
       "      <th>42</th>\n",
       "      <td>001810bf8c45bf5f</td>\n",
       "      <td>You are gay or antisemmitian? \\n\\nArchangel WH...</td>\n",
       "      <td>1</td>\n",
       "      <td>0</td>\n",
       "      <td>1</td>\n",
       "      <td>0</td>\n",
       "      <td>1</td>\n",
       "      <td>1</td>\n",
       "    </tr>\n",
       "    <tr>\n",
       "      <th>43</th>\n",
       "      <td>00190820581d90ce</td>\n",
       "      <td>FUCK YOUR FILTHY MOTHER IN THE ASS, DRY!</td>\n",
       "      <td>1</td>\n",
       "      <td>0</td>\n",
       "      <td>1</td>\n",
       "      <td>0</td>\n",
       "      <td>1</td>\n",
       "      <td>0</td>\n",
       "    </tr>\n",
       "  </tbody>\n",
       "</table>\n",
       "</div>"
      ],
      "text/plain": [
       "                  id                                       comment_text  \\\n",
       "6   0002bcb3da6cb337       COCKSUCKER BEFORE YOU PISS AROUND ON MY WORK   \n",
       "12  0005c987bdfc9d4b  Hey... what is it..\\n@ | talk .\\nWhat is it......   \n",
       "16  0007e25b2121310b  Bye! \\n\\nDon't look, come or think of comming ...   \n",
       "42  001810bf8c45bf5f  You are gay or antisemmitian? \\n\\nArchangel WH...   \n",
       "43  00190820581d90ce           FUCK YOUR FILTHY MOTHER IN THE ASS, DRY!   \n",
       "\n",
       "    toxic  severe_toxic  obscene  threat  insult  identity_hate  \n",
       "6       1             1        1       0       1              0  \n",
       "12      1             0        0       0       0              0  \n",
       "16      1             0        0       0       0              0  \n",
       "42      1             0        1       0       1              1  \n",
       "43      1             0        1       0       1              0  "
      ]
     },
     "execution_count": 14,
     "metadata": {},
     "output_type": "execute_result"
    }
   ],
   "source": [
    "# Listing all commetns labeleld as toxic\n",
    "df[df['toxic']==1].head()"
   ]
  },
  {
   "cell_type": "code",
   "execution_count": 16,
   "id": "dc736405-6710-427e-808e-5a604ddd348c",
   "metadata": {},
   "outputs": [
    {
     "data": {
      "text/plain": [
       "toxic            1\n",
       "severe_toxic     1\n",
       "obscene          1\n",
       "threat           0\n",
       "insult           1\n",
       "identity_hate    0\n",
       "Name: 6, dtype: int64"
      ]
     },
     "execution_count": 16,
     "metadata": {},
     "output_type": "execute_result"
    }
   ],
   "source": [
    "df[df.columns[2:]].iloc[6]"
   ]
  },
  {
   "cell_type": "markdown",
   "id": "648c07c7-4ef7-4e83-b7b6-135e634819d3",
   "metadata": {},
   "source": [
    "# 1. Preprocess"
   ]
  },
  {
   "cell_type": "code",
   "execution_count": 17,
   "id": "eccf61ac-108e-4602-bf87-9f971ff4bc4d",
   "metadata": {},
   "outputs": [],
   "source": [
    "from tensorflow.keras.layers import TextVectorization"
   ]
  },
  {
   "cell_type": "code",
   "execution_count": 19,
   "id": "373ff7fa-bcb2-4a66-9d6c-46c6a623c554",
   "metadata": {},
   "outputs": [],
   "source": [
    "X = df['comment_text'] # comments\n",
    "y = df[df.columns[2:]].values # labels"
   ]
  },
  {
   "cell_type": "markdown",
   "id": "6017312e-c245-4f98-951a-6434d2b8d690",
   "metadata": {},
   "source": [
    "# 1.1 Tokenization"
   ]
  },
  {
   "cell_type": "code",
   "execution_count": 21,
   "id": "20d3981c-24cf-4e7e-84ce-b0a62d041518",
   "metadata": {},
   "outputs": [],
   "source": [
    "MAX_FEATURES = 200000 # number of words in the vocab"
   ]
  },
  {
   "cell_type": "code",
   "execution_count": 23,
   "id": "104b6612-e952-4deb-8e27-1c123296c382",
   "metadata": {},
   "outputs": [],
   "source": [
    "vectorizer = TextVectorization(max_tokens=MAX_FEATURES,\n",
    "                              output_sequence_length=1800, # sentence length of 1800 words max\n",
    "                              output_mode='int')"
   ]
  },
  {
   "cell_type": "code",
   "execution_count": 24,
   "id": "6d07ae65-3a86-44af-8a73-039054c60c5d",
   "metadata": {},
   "outputs": [],
   "source": [
    "vectorizer.adapt(X.values) # learns all words in the dataset in a numpy array"
   ]
  },
  {
   "cell_type": "code",
   "execution_count": 27,
   "id": "993be8d2-9875-4a0e-8a5e-b74dfbd97b39",
   "metadata": {},
   "outputs": [
    {
     "data": {
      "text/plain": [
       "<tf.Tensor: shape=(1800,), dtype=int64, numpy=array([286, 261,   0, ...,   0,   0,   0], dtype=int64)>"
      ]
     },
     "execution_count": 27,
     "metadata": {},
     "output_type": "execute_result"
    }
   ],
   "source": [
    "# testing vectorizer\n",
    "vectorizer('Hello world')"
   ]
  },
  {
   "cell_type": "code",
   "execution_count": 28,
   "id": "52ad6399-de22-4b18-a592-c8df1ec03c00",
   "metadata": {
    "collapsed": true,
    "jupyter": {
     "outputs_hidden": true
    },
    "tags": []
   },
   "outputs": [
    {
     "data": {
      "text/plain": [
       "\u001b[1;31mInit signature:\u001b[0m\n",
       "\u001b[0mTextVectorization\u001b[0m\u001b[1;33m(\u001b[0m\u001b[1;33m\n",
       "\u001b[0m    \u001b[0mmax_tokens\u001b[0m\u001b[1;33m=\u001b[0m\u001b[1;32mNone\u001b[0m\u001b[1;33m,\u001b[0m\u001b[1;33m\n",
       "\u001b[0m    \u001b[0mstandardize\u001b[0m\u001b[1;33m=\u001b[0m\u001b[1;34m'lower_and_strip_punctuation'\u001b[0m\u001b[1;33m,\u001b[0m\u001b[1;33m\n",
       "\u001b[0m    \u001b[0msplit\u001b[0m\u001b[1;33m=\u001b[0m\u001b[1;34m'whitespace'\u001b[0m\u001b[1;33m,\u001b[0m\u001b[1;33m\n",
       "\u001b[0m    \u001b[0mngrams\u001b[0m\u001b[1;33m=\u001b[0m\u001b[1;32mNone\u001b[0m\u001b[1;33m,\u001b[0m\u001b[1;33m\n",
       "\u001b[0m    \u001b[0moutput_mode\u001b[0m\u001b[1;33m=\u001b[0m\u001b[1;34m'int'\u001b[0m\u001b[1;33m,\u001b[0m\u001b[1;33m\n",
       "\u001b[0m    \u001b[0moutput_sequence_length\u001b[0m\u001b[1;33m=\u001b[0m\u001b[1;32mNone\u001b[0m\u001b[1;33m,\u001b[0m\u001b[1;33m\n",
       "\u001b[0m    \u001b[0mpad_to_max_tokens\u001b[0m\u001b[1;33m=\u001b[0m\u001b[1;32mFalse\u001b[0m\u001b[1;33m,\u001b[0m\u001b[1;33m\n",
       "\u001b[0m    \u001b[0mvocabulary\u001b[0m\u001b[1;33m=\u001b[0m\u001b[1;32mNone\u001b[0m\u001b[1;33m,\u001b[0m\u001b[1;33m\n",
       "\u001b[0m    \u001b[0midf_weights\u001b[0m\u001b[1;33m=\u001b[0m\u001b[1;32mNone\u001b[0m\u001b[1;33m,\u001b[0m\u001b[1;33m\n",
       "\u001b[0m    \u001b[0msparse\u001b[0m\u001b[1;33m=\u001b[0m\u001b[1;32mFalse\u001b[0m\u001b[1;33m,\u001b[0m\u001b[1;33m\n",
       "\u001b[0m    \u001b[0mragged\u001b[0m\u001b[1;33m=\u001b[0m\u001b[1;32mFalse\u001b[0m\u001b[1;33m,\u001b[0m\u001b[1;33m\n",
       "\u001b[0m    \u001b[1;33m**\u001b[0m\u001b[0mkwargs\u001b[0m\u001b[1;33m,\u001b[0m\u001b[1;33m\n",
       "\u001b[0m\u001b[1;33m)\u001b[0m\u001b[1;33m\u001b[0m\u001b[1;33m\u001b[0m\u001b[0m\n",
       "\u001b[1;31mSource:\u001b[0m        \n",
       "\u001b[1;33m@\u001b[0m\u001b[0mkeras_export\u001b[0m\u001b[1;33m(\u001b[0m\u001b[1;33m\n",
       "\u001b[0m    \u001b[1;34m\"keras.layers.TextVectorization\"\u001b[0m\u001b[1;33m,\u001b[0m\u001b[1;33m\n",
       "\u001b[0m    \u001b[1;34m\"keras.layers.experimental.preprocessing.TextVectorization\"\u001b[0m\u001b[1;33m,\u001b[0m\u001b[1;33m\n",
       "\u001b[0m    \u001b[0mv1\u001b[0m\u001b[1;33m=\u001b[0m\u001b[1;33m[\u001b[0m\u001b[1;33m]\u001b[0m\u001b[1;33m)\u001b[0m\u001b[1;33m\n",
       "\u001b[0m\u001b[1;32mclass\u001b[0m \u001b[0mTextVectorization\u001b[0m\u001b[1;33m(\u001b[0m\u001b[0mbase_preprocessing_layer\u001b[0m\u001b[1;33m.\u001b[0m\u001b[0mPreprocessingLayer\u001b[0m\u001b[1;33m)\u001b[0m\u001b[1;33m:\u001b[0m\u001b[1;33m\n",
       "\u001b[0m  \u001b[1;34m\"\"\"A preprocessing layer which maps text features to integer sequences.\n",
       "\n",
       "  This layer has basic options for managing text in a Keras model. It transforms\n",
       "  a batch of strings (one example = one string) into either a list of token\n",
       "  indices (one example = 1D tensor of integer token indices) or a dense\n",
       "  representation (one example = 1D tensor of float values representing data\n",
       "  about the example's tokens). This layer is meant to handle natural language\n",
       "  inputs. To handle simple string inputs (categorical strings or pre-tokenized\n",
       "  strings) see `tf.keras.layers.StringLookup`.\n",
       "\n",
       "  The vocabulary for the layer must be either supplied on construction or\n",
       "  learned via `adapt()`. When this layer is adapted, it will analyze the\n",
       "  dataset, determine the frequency of individual string values, and create a\n",
       "  vocabulary from them. This vocabulary can have unlimited size or be capped,\n",
       "  depending on the configuration options for this layer; if there are more\n",
       "  unique values in the input than the maximum vocabulary size, the most frequent\n",
       "  terms will be used to create the vocabulary.\n",
       "\n",
       "  The processing of each example contains the following steps:\n",
       "\n",
       "  1. Standardize each example (usually lowercasing + punctuation stripping)\n",
       "  2. Split each example into substrings (usually words)\n",
       "  3. Recombine substrings into tokens (usually ngrams)\n",
       "  4. Index tokens (associate a unique int value with each token)\n",
       "  5. Transform each example using this index, either into a vector of ints or\n",
       "     a dense float vector.\n",
       "\n",
       "  Some notes on passing callables to customize splitting and normalization for\n",
       "  this layer:\n",
       "\n",
       "  1. Any callable can be passed to this Layer, but if you want to serialize\n",
       "     this object you should only pass functions that are registered Keras\n",
       "     serializables (see `tf.keras.utils.register_keras_serializable` for more\n",
       "     details).\n",
       "  2. When using a custom callable for `standardize`, the data received\n",
       "     by the callable will be exactly as passed to this layer. The callable\n",
       "     should return a tensor of the same shape as the input.\n",
       "  3. When using a custom callable for `split`, the data received by the\n",
       "     callable will have the 1st dimension squeezed out - instead of\n",
       "     `[[\"string to split\"], [\"another string to split\"]]`, the Callable will\n",
       "     see `[\"string to split\", \"another string to split\"]`. The callable should\n",
       "     return a Tensor with the first dimension containing the split tokens -\n",
       "     in this example, we should see something like `[[\"string\", \"to\",\n",
       "     \"split\"], [\"another\", \"string\", \"to\", \"split\"]]`. This makes the callable\n",
       "     site natively compatible with `tf.strings.split()`.\n",
       "\n",
       "  For an overview and full list of preprocessing layers, see the preprocessing\n",
       "  [guide](https://www.tensorflow.org/guide/keras/preprocessing_layers).\n",
       "\n",
       "  Args:\n",
       "    max_tokens: Maximum size of the vocabulary for this layer. This should only\n",
       "      be specified when adapting a vocabulary or when setting\n",
       "      `pad_to_max_tokens=True`. Note that this vocabulary\n",
       "      contains 1 OOV token, so the effective number of tokens is `(max_tokens -\n",
       "      1 - (1 if output_mode == \"int\" else 0))`.\n",
       "    standardize: Optional specification for standardization to apply to the\n",
       "      input text. Values can be:\n",
       "        - `None`: No standardization.\n",
       "        - `\"lower_and_strip_punctuation\"`: Text will be lowercased and all\n",
       "          punctuation removed.\n",
       "        - `\"lower\"`: Text will be lowercased.\n",
       "        - `\"strip_punctuation\"`: All punctuation will be removed.\n",
       "        - Callable: Inputs will passed to the callable function, which should\n",
       "          standardized and returned.\n",
       "    split: Optional specification for splitting the input text. Values can be:\n",
       "        - `None`: No splitting.\n",
       "        - `\"whitespace\"`: Split on whitespace.\n",
       "        - `\"character\"`: Split on each unicode character.\n",
       "        - Callable: Standardized inputs will passed to the callable function,\n",
       "          which should split and returned.\n",
       "    ngrams: Optional specification for ngrams to create from the possibly-split\n",
       "      input text. Values can be None, an integer or tuple of integers; passing\n",
       "      an integer will create ngrams up to that integer, and passing a tuple of\n",
       "      integers will create ngrams for the specified values in the tuple. Passing\n",
       "      None means that no ngrams will be created.\n",
       "    output_mode: Optional specification for the output of the layer. Values can\n",
       "      be `\"int\"`, `\"multi_hot\"`, `\"count\"` or `\"tf_idf\"`, configuring the layer\n",
       "      as follows:\n",
       "        - `\"int\"`: Outputs integer indices, one integer index per split string\n",
       "          token. When `output_mode == \"int\"`, 0 is reserved for masked\n",
       "          locations; this reduces the vocab size to\n",
       "          `max_tokens - 2` instead of `max_tokens - 1`.\n",
       "        - `\"multi_hot\"`: Outputs a single int array per batch, of either\n",
       "          vocab_size or max_tokens size, containing 1s in all elements where the\n",
       "          token mapped to that index exists at least once in the batch item.\n",
       "        - `\"count\"`: Like `\"multi_hot\"`, but the int array contains a count of\n",
       "          the number of times the token at that index appeared in the\n",
       "          batch item.\n",
       "        - `\"tf_idf\"`: Like `\"multi_hot\"`, but the TF-IDF algorithm is applied to\n",
       "          find the value in each token slot.\n",
       "      For `\"int\"` output, any shape of input and output is supported. For all\n",
       "      other output modes, currently only rank 1 inputs (and rank 2 outputs after\n",
       "      splitting) are supported.\n",
       "    output_sequence_length: Only valid in INT mode. If set, the output will have\n",
       "      its time dimension padded or truncated to exactly `output_sequence_length`\n",
       "      values, resulting in a tensor of shape\n",
       "      `(batch_size, output_sequence_length)` regardless of how many tokens\n",
       "      resulted from the splitting step. Defaults to None.\n",
       "    pad_to_max_tokens: Only valid in  `\"multi_hot\"`, `\"count\"`, and `\"tf_idf\"`\n",
       "      modes. If True, the output will have its feature axis padded to\n",
       "      `max_tokens` even if the number of unique tokens in the vocabulary is less\n",
       "      than max_tokens, resulting in a tensor of shape `(batch_size, max_tokens)`\n",
       "      regardless of vocabulary size. Defaults to False.\n",
       "    vocabulary: Optional. Either an array of strings or a string path to a text\n",
       "      file. If passing an array, can pass a tuple, list, 1D numpy array, or 1D\n",
       "      tensor containing the string vocbulary terms. If passing a file path, the\n",
       "      file should contain one line per term in the vocabulary. If this argument\n",
       "      is set, there is no need to `adapt()` the layer.\n",
       "    idf_weights: Only valid when `output_mode` is `\"tf_idf\"`. A tuple, list, 1D\n",
       "      numpy array, or 1D tensor or the same length as the vocabulary, containing\n",
       "      the floating point inverse document frequency weights, which will be\n",
       "      multiplied by per sample term counts for the final `tf_idf` weight. If the\n",
       "      `vocabulary` argument is set, and `output_mode` is `\"tf_idf\"`, this\n",
       "      argument must be supplied.\n",
       "    ragged: Boolean. Only applicable to `\"int\"` output mode. If True, returns a\n",
       "      `RaggedTensor` instead of a dense `Tensor`, where each sequence may have a\n",
       "      different length after string splitting. Defaults to False.\n",
       "    sparse: Boolean. Only applicable to `\"multi_hot\"`, `\"count\"`, and\n",
       "      `\"tf_idf\"` output modes. If True, returns a `SparseTensor` instead of a\n",
       "      dense `Tensor`. Defaults to False.\n",
       "\n",
       "  Example:\n",
       "\n",
       "  This example instantiates a `TextVectorization` layer that lowercases text,\n",
       "  splits on whitespace, strips punctuation, and outputs integer vocab indices.\n",
       "\n",
       "  >>> text_dataset = tf.data.Dataset.from_tensor_slices([\"foo\", \"bar\", \"baz\"])\n",
       "  >>> max_features = 5000  # Maximum vocab size.\n",
       "  >>> max_len = 4  # Sequence length to pad the outputs to.\n",
       "  >>>\n",
       "  >>> # Create the layer.\n",
       "  >>> vectorize_layer = tf.keras.layers.TextVectorization(\n",
       "  ...  max_tokens=max_features,\n",
       "  ...  output_mode='int',\n",
       "  ...  output_sequence_length=max_len)\n",
       "  >>>\n",
       "  >>> # Now that the vocab layer has been created, call `adapt` on the text-only\n",
       "  >>> # dataset to create the vocabulary. You don't have to batch, but for large\n",
       "  >>> # datasets this means we're not keeping spare copies of the dataset.\n",
       "  >>> vectorize_layer.adapt(text_dataset.batch(64))\n",
       "  >>>\n",
       "  >>> # Create the model that uses the vectorize text layer\n",
       "  >>> model = tf.keras.models.Sequential()\n",
       "  >>>\n",
       "  >>> # Start by creating an explicit input layer. It needs to have a shape of\n",
       "  >>> # (1,) (because we need to guarantee that there is exactly one string\n",
       "  >>> # input per batch), and the dtype needs to be 'string'.\n",
       "  >>> model.add(tf.keras.Input(shape=(1,), dtype=tf.string))\n",
       "  >>>\n",
       "  >>> # The first layer in our model is the vectorization layer. After this\n",
       "  >>> # layer, we have a tensor of shape (batch_size, max_len) containing vocab\n",
       "  >>> # indices.\n",
       "  >>> model.add(vectorize_layer)\n",
       "  >>>\n",
       "  >>> # Now, the model can map strings to integers, and you can add an embedding\n",
       "  >>> # layer to map these integers to learned embeddings.\n",
       "  >>> input_data = [[\"foo qux bar\"], [\"qux baz\"]]\n",
       "  >>> model.predict(input_data)\n",
       "  array([[2, 1, 4, 0],\n",
       "         [1, 3, 0, 0]])\n",
       "\n",
       "  Example:\n",
       "\n",
       "  This example instantiates a `TextVectorization` layer by passing a list\n",
       "  of vocabulary terms to the layer's `__init__()` method.\n",
       "\n",
       "  >>> vocab_data = [\"earth\", \"wind\", \"and\", \"fire\"]\n",
       "  >>> max_len = 4  # Sequence length to pad the outputs to.\n",
       "  >>>\n",
       "  >>> # Create the layer, passing the vocab directly. You can also pass the\n",
       "  >>> # vocabulary arg a path to a file containing one vocabulary word per\n",
       "  >>> # line.\n",
       "  >>> vectorize_layer = tf.keras.layers.TextVectorization(\n",
       "  ...  max_tokens=max_features,\n",
       "  ...  output_mode='int',\n",
       "  ...  output_sequence_length=max_len,\n",
       "  ...  vocabulary=vocab_data)\n",
       "  >>>\n",
       "  >>> # Because we've passed the vocabulary directly, we don't need to adapt\n",
       "  >>> # the layer - the vocabulary is already set. The vocabulary contains the\n",
       "  >>> # padding token ('') and OOV token ('[UNK]') as well as the passed tokens.\n",
       "  >>> vectorize_layer.get_vocabulary()\n",
       "  ['', '[UNK]', 'earth', 'wind', 'and', 'fire']\n",
       "\n",
       "  \"\"\"\u001b[0m\u001b[1;33m\n",
       "\u001b[0m\u001b[1;33m\n",
       "\u001b[0m  \u001b[1;32mdef\u001b[0m \u001b[0m__init__\u001b[0m\u001b[1;33m(\u001b[0m\u001b[0mself\u001b[0m\u001b[1;33m,\u001b[0m\u001b[1;33m\n",
       "\u001b[0m               \u001b[0mmax_tokens\u001b[0m\u001b[1;33m=\u001b[0m\u001b[1;32mNone\u001b[0m\u001b[1;33m,\u001b[0m\u001b[1;33m\n",
       "\u001b[0m               \u001b[0mstandardize\u001b[0m\u001b[1;33m=\u001b[0m\u001b[1;34m\"lower_and_strip_punctuation\"\u001b[0m\u001b[1;33m,\u001b[0m\u001b[1;33m\n",
       "\u001b[0m               \u001b[0msplit\u001b[0m\u001b[1;33m=\u001b[0m\u001b[1;34m\"whitespace\"\u001b[0m\u001b[1;33m,\u001b[0m\u001b[1;33m\n",
       "\u001b[0m               \u001b[0mngrams\u001b[0m\u001b[1;33m=\u001b[0m\u001b[1;32mNone\u001b[0m\u001b[1;33m,\u001b[0m\u001b[1;33m\n",
       "\u001b[0m               \u001b[0moutput_mode\u001b[0m\u001b[1;33m=\u001b[0m\u001b[1;34m\"int\"\u001b[0m\u001b[1;33m,\u001b[0m\u001b[1;33m\n",
       "\u001b[0m               \u001b[0moutput_sequence_length\u001b[0m\u001b[1;33m=\u001b[0m\u001b[1;32mNone\u001b[0m\u001b[1;33m,\u001b[0m\u001b[1;33m\n",
       "\u001b[0m               \u001b[0mpad_to_max_tokens\u001b[0m\u001b[1;33m=\u001b[0m\u001b[1;32mFalse\u001b[0m\u001b[1;33m,\u001b[0m\u001b[1;33m\n",
       "\u001b[0m               \u001b[0mvocabulary\u001b[0m\u001b[1;33m=\u001b[0m\u001b[1;32mNone\u001b[0m\u001b[1;33m,\u001b[0m\u001b[1;33m\n",
       "\u001b[0m               \u001b[0midf_weights\u001b[0m\u001b[1;33m=\u001b[0m\u001b[1;32mNone\u001b[0m\u001b[1;33m,\u001b[0m\u001b[1;33m\n",
       "\u001b[0m               \u001b[0msparse\u001b[0m\u001b[1;33m=\u001b[0m\u001b[1;32mFalse\u001b[0m\u001b[1;33m,\u001b[0m\u001b[1;33m\n",
       "\u001b[0m               \u001b[0mragged\u001b[0m\u001b[1;33m=\u001b[0m\u001b[1;32mFalse\u001b[0m\u001b[1;33m,\u001b[0m\u001b[1;33m\n",
       "\u001b[0m               \u001b[1;33m**\u001b[0m\u001b[0mkwargs\u001b[0m\u001b[1;33m)\u001b[0m\u001b[1;33m:\u001b[0m\u001b[1;33m\n",
       "\u001b[0m\u001b[1;33m\n",
       "\u001b[0m    \u001b[1;31m# This layer only applies to string processing, and so should only have\u001b[0m\u001b[1;33m\n",
       "\u001b[0m    \u001b[1;31m# a dtype of 'string'.\u001b[0m\u001b[1;33m\n",
       "\u001b[0m    \u001b[1;32mif\u001b[0m \u001b[1;34m\"dtype\"\u001b[0m \u001b[1;32min\u001b[0m \u001b[0mkwargs\u001b[0m \u001b[1;32mand\u001b[0m \u001b[0mkwargs\u001b[0m\u001b[1;33m[\u001b[0m\u001b[1;34m\"dtype\"\u001b[0m\u001b[1;33m]\u001b[0m \u001b[1;33m!=\u001b[0m \u001b[0mtf\u001b[0m\u001b[1;33m.\u001b[0m\u001b[0mstring\u001b[0m\u001b[1;33m:\u001b[0m\u001b[1;33m\n",
       "\u001b[0m      \u001b[1;32mraise\u001b[0m \u001b[0mValueError\u001b[0m\u001b[1;33m(\u001b[0m\u001b[1;33m\n",
       "\u001b[0m          \u001b[1;34mf\"`TextVectorization` may only have a dtype of string. \"\u001b[0m\u001b[1;33m\n",
       "\u001b[0m          \u001b[1;34mf\"Received dtype: {kwargs['dtype']}.\"\u001b[0m\u001b[1;33m)\u001b[0m\u001b[1;33m\n",
       "\u001b[0m    \u001b[1;32melif\u001b[0m \u001b[1;34m\"dtype\"\u001b[0m \u001b[1;32mnot\u001b[0m \u001b[1;32min\u001b[0m \u001b[0mkwargs\u001b[0m\u001b[1;33m:\u001b[0m\u001b[1;33m\n",
       "\u001b[0m      \u001b[0mkwargs\u001b[0m\u001b[1;33m[\u001b[0m\u001b[1;34m\"dtype\"\u001b[0m\u001b[1;33m]\u001b[0m \u001b[1;33m=\u001b[0m \u001b[0mtf\u001b[0m\u001b[1;33m.\u001b[0m\u001b[0mstring\u001b[0m\u001b[1;33m\n",
       "\u001b[0m\u001b[1;33m\n",
       "\u001b[0m    \u001b[1;31m# 'standardize' must be one of\u001b[0m\u001b[1;33m\n",
       "\u001b[0m    \u001b[1;31m# (None, LOWER_AND_STRIP_PUNCTUATION, LOWER, STRIP_PUNCTUATION, callable)\u001b[0m\u001b[1;33m\n",
       "\u001b[0m    \u001b[0mlayer_utils\u001b[0m\u001b[1;33m.\u001b[0m\u001b[0mvalidate_string_arg\u001b[0m\u001b[1;33m(\u001b[0m\u001b[1;33m\n",
       "\u001b[0m        \u001b[0mstandardize\u001b[0m\u001b[1;33m,\u001b[0m\u001b[1;33m\n",
       "\u001b[0m        \u001b[0mallowable_strings\u001b[0m\u001b[1;33m=\u001b[0m\u001b[1;33m(\u001b[0m\u001b[0mLOWER_AND_STRIP_PUNCTUATION\u001b[0m\u001b[1;33m,\u001b[0m \u001b[0mLOWER\u001b[0m\u001b[1;33m,\u001b[0m\u001b[1;33m\n",
       "\u001b[0m                           \u001b[0mSTRIP_PUNCTUATION\u001b[0m\u001b[1;33m)\u001b[0m\u001b[1;33m,\u001b[0m\u001b[1;33m\n",
       "\u001b[0m        \u001b[0mlayer_name\u001b[0m\u001b[1;33m=\u001b[0m\u001b[1;34m\"TextVectorization\"\u001b[0m\u001b[1;33m,\u001b[0m\u001b[1;33m\n",
       "\u001b[0m        \u001b[0marg_name\u001b[0m\u001b[1;33m=\u001b[0m\u001b[1;34m\"standardize\"\u001b[0m\u001b[1;33m,\u001b[0m\u001b[1;33m\n",
       "\u001b[0m        \u001b[0mallow_none\u001b[0m\u001b[1;33m=\u001b[0m\u001b[1;32mTrue\u001b[0m\u001b[1;33m,\u001b[0m\u001b[1;33m\n",
       "\u001b[0m        \u001b[0mallow_callables\u001b[0m\u001b[1;33m=\u001b[0m\u001b[1;32mTrue\u001b[0m\u001b[1;33m)\u001b[0m\u001b[1;33m\n",
       "\u001b[0m\u001b[1;33m\n",
       "\u001b[0m    \u001b[1;31m# 'split' must be one of (None, WHITESPACE, CHARACTER, callable)\u001b[0m\u001b[1;33m\n",
       "\u001b[0m    \u001b[0mlayer_utils\u001b[0m\u001b[1;33m.\u001b[0m\u001b[0mvalidate_string_arg\u001b[0m\u001b[1;33m(\u001b[0m\u001b[1;33m\n",
       "\u001b[0m        \u001b[0msplit\u001b[0m\u001b[1;33m,\u001b[0m\u001b[1;33m\n",
       "\u001b[0m        \u001b[0mallowable_strings\u001b[0m\u001b[1;33m=\u001b[0m\u001b[1;33m(\u001b[0m\u001b[0mWHITESPACE\u001b[0m\u001b[1;33m,\u001b[0m \u001b[0mCHARACTER\u001b[0m\u001b[1;33m)\u001b[0m\u001b[1;33m,\u001b[0m\u001b[1;33m\n",
       "\u001b[0m        \u001b[0mlayer_name\u001b[0m\u001b[1;33m=\u001b[0m\u001b[1;34m\"TextVectorization\"\u001b[0m\u001b[1;33m,\u001b[0m\u001b[1;33m\n",
       "\u001b[0m        \u001b[0marg_name\u001b[0m\u001b[1;33m=\u001b[0m\u001b[1;34m\"split\"\u001b[0m\u001b[1;33m,\u001b[0m\u001b[1;33m\n",
       "\u001b[0m        \u001b[0mallow_none\u001b[0m\u001b[1;33m=\u001b[0m\u001b[1;32mTrue\u001b[0m\u001b[1;33m,\u001b[0m\u001b[1;33m\n",
       "\u001b[0m        \u001b[0mallow_callables\u001b[0m\u001b[1;33m=\u001b[0m\u001b[1;32mTrue\u001b[0m\u001b[1;33m)\u001b[0m\u001b[1;33m\n",
       "\u001b[0m\u001b[1;33m\n",
       "\u001b[0m    \u001b[1;31m# Support deprecated names for output_modes.\u001b[0m\u001b[1;33m\n",
       "\u001b[0m    \u001b[1;32mif\u001b[0m \u001b[0moutput_mode\u001b[0m \u001b[1;33m==\u001b[0m \u001b[1;34m\"binary\"\u001b[0m\u001b[1;33m:\u001b[0m\u001b[1;33m\n",
       "\u001b[0m      \u001b[0moutput_mode\u001b[0m \u001b[1;33m=\u001b[0m \u001b[0mMULTI_HOT\u001b[0m\u001b[1;33m\n",
       "\u001b[0m    \u001b[1;32mif\u001b[0m \u001b[0moutput_mode\u001b[0m \u001b[1;33m==\u001b[0m \u001b[1;34m\"tf-idf\"\u001b[0m\u001b[1;33m:\u001b[0m\u001b[1;33m\n",
       "\u001b[0m      \u001b[0moutput_mode\u001b[0m \u001b[1;33m=\u001b[0m \u001b[0mTF_IDF\u001b[0m\u001b[1;33m\n",
       "\u001b[0m    \u001b[1;31m# 'output_mode' must be one of (None, INT, COUNT, MULTI_HOT, TF_IDF)\u001b[0m\u001b[1;33m\n",
       "\u001b[0m    \u001b[0mlayer_utils\u001b[0m\u001b[1;33m.\u001b[0m\u001b[0mvalidate_string_arg\u001b[0m\u001b[1;33m(\u001b[0m\u001b[1;33m\n",
       "\u001b[0m        \u001b[0moutput_mode\u001b[0m\u001b[1;33m,\u001b[0m\u001b[1;33m\n",
       "\u001b[0m        \u001b[0mallowable_strings\u001b[0m\u001b[1;33m=\u001b[0m\u001b[1;33m(\u001b[0m\u001b[0mINT\u001b[0m\u001b[1;33m,\u001b[0m \u001b[0mCOUNT\u001b[0m\u001b[1;33m,\u001b[0m \u001b[0mMULTI_HOT\u001b[0m\u001b[1;33m,\u001b[0m \u001b[0mTF_IDF\u001b[0m\u001b[1;33m)\u001b[0m\u001b[1;33m,\u001b[0m\u001b[1;33m\n",
       "\u001b[0m        \u001b[0mlayer_name\u001b[0m\u001b[1;33m=\u001b[0m\u001b[1;34m\"TextVectorization\"\u001b[0m\u001b[1;33m,\u001b[0m\u001b[1;33m\n",
       "\u001b[0m        \u001b[0marg_name\u001b[0m\u001b[1;33m=\u001b[0m\u001b[1;34m\"output_mode\"\u001b[0m\u001b[1;33m,\u001b[0m\u001b[1;33m\n",
       "\u001b[0m        \u001b[0mallow_none\u001b[0m\u001b[1;33m=\u001b[0m\u001b[1;32mTrue\u001b[0m\u001b[1;33m)\u001b[0m\u001b[1;33m\n",
       "\u001b[0m\u001b[1;33m\n",
       "\u001b[0m    \u001b[1;31m# 'ngrams' must be one of (None, int, tuple(int))\u001b[0m\u001b[1;33m\n",
       "\u001b[0m    \u001b[1;32mif\u001b[0m \u001b[1;32mnot\u001b[0m \u001b[1;33m(\u001b[0m\u001b[0mngrams\u001b[0m \u001b[1;32mis\u001b[0m \u001b[1;32mNone\u001b[0m \u001b[1;32mor\u001b[0m\u001b[1;33m\n",
       "\u001b[0m            \u001b[0misinstance\u001b[0m\u001b[1;33m(\u001b[0m\u001b[0mngrams\u001b[0m\u001b[1;33m,\u001b[0m \u001b[0mint\u001b[0m\u001b[1;33m)\u001b[0m \u001b[1;32mor\u001b[0m\u001b[1;33m\n",
       "\u001b[0m            \u001b[0misinstance\u001b[0m\u001b[1;33m(\u001b[0m\u001b[0mngrams\u001b[0m\u001b[1;33m,\u001b[0m \u001b[0mtuple\u001b[0m\u001b[1;33m)\u001b[0m \u001b[1;32mand\u001b[0m\u001b[1;33m\n",
       "\u001b[0m            \u001b[0mall\u001b[0m\u001b[1;33m(\u001b[0m\u001b[0misinstance\u001b[0m\u001b[1;33m(\u001b[0m\u001b[0mitem\u001b[0m\u001b[1;33m,\u001b[0m \u001b[0mint\u001b[0m\u001b[1;33m)\u001b[0m \u001b[1;32mfor\u001b[0m \u001b[0mitem\u001b[0m \u001b[1;32min\u001b[0m \u001b[0mngrams\u001b[0m\u001b[1;33m)\u001b[0m\u001b[1;33m)\u001b[0m\u001b[1;33m:\u001b[0m\u001b[1;33m\n",
       "\u001b[0m      \u001b[1;32mraise\u001b[0m \u001b[0mValueError\u001b[0m\u001b[1;33m(\u001b[0m\u001b[1;34mf\"`ngrams` must be None, an integer, or a tuple of \"\u001b[0m\u001b[1;33m\n",
       "\u001b[0m                       \u001b[1;34mf\"integers. Received: ngrams={ngrams}\"\u001b[0m\u001b[1;33m)\u001b[0m\u001b[1;33m\n",
       "\u001b[0m\u001b[1;33m\n",
       "\u001b[0m    \u001b[1;31m# 'output_sequence_length' must be one of (None, int) and is only\u001b[0m\u001b[1;33m\n",
       "\u001b[0m    \u001b[1;31m# set if output_mode is INT.\u001b[0m\u001b[1;33m\n",
       "\u001b[0m    \u001b[1;32mif\u001b[0m \u001b[1;33m(\u001b[0m\u001b[0moutput_mode\u001b[0m \u001b[1;33m==\u001b[0m \u001b[0mINT\u001b[0m \u001b[1;32mand\u001b[0m \u001b[1;32mnot\u001b[0m \u001b[1;33m(\u001b[0m\u001b[0misinstance\u001b[0m\u001b[1;33m(\u001b[0m\u001b[0moutput_sequence_length\u001b[0m\u001b[1;33m,\u001b[0m \u001b[0mint\u001b[0m\u001b[1;33m)\u001b[0m \u001b[1;32mor\u001b[0m\u001b[1;33m\n",
       "\u001b[0m                                    \u001b[1;33m(\u001b[0m\u001b[0moutput_sequence_length\u001b[0m \u001b[1;32mis\u001b[0m \u001b[1;32mNone\u001b[0m\u001b[1;33m)\u001b[0m\u001b[1;33m)\u001b[0m\u001b[1;33m)\u001b[0m\u001b[1;33m:\u001b[0m\u001b[1;33m\n",
       "\u001b[0m      \u001b[1;32mraise\u001b[0m \u001b[0mValueError\u001b[0m\u001b[1;33m(\u001b[0m\u001b[1;34mf\"`output_sequence_length` must be either None or an \"\u001b[0m\u001b[1;33m\n",
       "\u001b[0m                       \u001b[1;34mf\"integer when `output_mode` is 'int'. Received: \"\u001b[0m\u001b[1;33m\n",
       "\u001b[0m                       \u001b[1;34mf\"output_sequence_length={output_sequence_length}\"\u001b[0m\u001b[1;33m)\u001b[0m\u001b[1;33m\n",
       "\u001b[0m\u001b[1;33m\n",
       "\u001b[0m    \u001b[1;32mif\u001b[0m \u001b[0moutput_mode\u001b[0m \u001b[1;33m!=\u001b[0m \u001b[0mINT\u001b[0m \u001b[1;32mand\u001b[0m \u001b[0moutput_sequence_length\u001b[0m \u001b[1;32mis\u001b[0m \u001b[1;32mnot\u001b[0m \u001b[1;32mNone\u001b[0m\u001b[1;33m:\u001b[0m\u001b[1;33m\n",
       "\u001b[0m      \u001b[1;32mraise\u001b[0m \u001b[0mValueError\u001b[0m\u001b[1;33m(\u001b[0m\u001b[1;33m\n",
       "\u001b[0m          \u001b[1;34mf\"`output_sequence_length` must not be set if `output_mode` is not \"\u001b[0m\u001b[1;33m\n",
       "\u001b[0m          \u001b[1;34mf\"'int'. Received output_sequence_length={output_sequence_length}.\"\u001b[0m\u001b[1;33m)\u001b[0m\u001b[1;33m\n",
       "\u001b[0m\u001b[1;33m\n",
       "\u001b[0m    \u001b[1;32mif\u001b[0m \u001b[0mragged\u001b[0m \u001b[1;32mand\u001b[0m \u001b[0moutput_mode\u001b[0m \u001b[1;33m!=\u001b[0m \u001b[0mINT\u001b[0m\u001b[1;33m:\u001b[0m\u001b[1;33m\n",
       "\u001b[0m      \u001b[1;32mraise\u001b[0m \u001b[0mValueError\u001b[0m\u001b[1;33m(\u001b[0m\u001b[1;34mf\"`ragged` must not be true if `output_mode` is \"\u001b[0m\u001b[1;33m\n",
       "\u001b[0m                       \u001b[1;34mf\"`'int'`. Received: ragged={ragged} and \"\u001b[0m\u001b[1;33m\n",
       "\u001b[0m                       \u001b[1;34mf\"output_mode={output_mode}\"\u001b[0m\u001b[1;33m)\u001b[0m\u001b[1;33m\n",
       "\u001b[0m\u001b[1;33m\n",
       "\u001b[0m    \u001b[1;32mif\u001b[0m \u001b[0mragged\u001b[0m \u001b[1;32mand\u001b[0m \u001b[0moutput_sequence_length\u001b[0m \u001b[1;32mis\u001b[0m \u001b[1;32mnot\u001b[0m \u001b[1;32mNone\u001b[0m\u001b[1;33m:\u001b[0m\u001b[1;33m\n",
       "\u001b[0m      \u001b[1;32mraise\u001b[0m \u001b[0mValueError\u001b[0m\u001b[1;33m(\u001b[0m\u001b[1;34mf\"`output_sequence_length` must not be set if ragged \"\u001b[0m\u001b[1;33m\n",
       "\u001b[0m                       \u001b[1;34mf\"is True. Received: ragged={ragged} and \"\u001b[0m\u001b[1;33m\n",
       "\u001b[0m                       \u001b[1;34mf\"output_sequence_length={output_sequence_length}\"\u001b[0m\u001b[1;33m)\u001b[0m\u001b[1;33m\n",
       "\u001b[0m\u001b[1;33m\n",
       "\u001b[0m    \u001b[0mself\u001b[0m\u001b[1;33m.\u001b[0m\u001b[0m_max_tokens\u001b[0m \u001b[1;33m=\u001b[0m \u001b[0mmax_tokens\u001b[0m\u001b[1;33m\n",
       "\u001b[0m    \u001b[0mself\u001b[0m\u001b[1;33m.\u001b[0m\u001b[0m_standardize\u001b[0m \u001b[1;33m=\u001b[0m \u001b[0mstandardize\u001b[0m\u001b[1;33m\n",
       "\u001b[0m    \u001b[0mself\u001b[0m\u001b[1;33m.\u001b[0m\u001b[0m_split\u001b[0m \u001b[1;33m=\u001b[0m \u001b[0msplit\u001b[0m\u001b[1;33m\n",
       "\u001b[0m    \u001b[0mself\u001b[0m\u001b[1;33m.\u001b[0m\u001b[0m_ngrams_arg\u001b[0m \u001b[1;33m=\u001b[0m \u001b[0mngrams\u001b[0m\u001b[1;33m\n",
       "\u001b[0m    \u001b[1;32mif\u001b[0m \u001b[0misinstance\u001b[0m\u001b[1;33m(\u001b[0m\u001b[0mngrams\u001b[0m\u001b[1;33m,\u001b[0m \u001b[0mint\u001b[0m\u001b[1;33m)\u001b[0m\u001b[1;33m:\u001b[0m\u001b[1;33m\n",
       "\u001b[0m      \u001b[0mself\u001b[0m\u001b[1;33m.\u001b[0m\u001b[0m_ngrams\u001b[0m \u001b[1;33m=\u001b[0m \u001b[0mtuple\u001b[0m\u001b[1;33m(\u001b[0m\u001b[0mrange\u001b[0m\u001b[1;33m(\u001b[0m\u001b[1;36m1\u001b[0m\u001b[1;33m,\u001b[0m \u001b[0mngrams\u001b[0m \u001b[1;33m+\u001b[0m \u001b[1;36m1\u001b[0m\u001b[1;33m)\u001b[0m\u001b[1;33m)\u001b[0m\u001b[1;33m\n",
       "\u001b[0m    \u001b[1;32melse\u001b[0m\u001b[1;33m:\u001b[0m\u001b[1;33m\n",
       "\u001b[0m      \u001b[0mself\u001b[0m\u001b[1;33m.\u001b[0m\u001b[0m_ngrams\u001b[0m \u001b[1;33m=\u001b[0m \u001b[0mngrams\u001b[0m\u001b[1;33m\n",
       "\u001b[0m    \u001b[0mself\u001b[0m\u001b[1;33m.\u001b[0m\u001b[0m_ragged\u001b[0m \u001b[1;33m=\u001b[0m \u001b[0mragged\u001b[0m\u001b[1;33m\n",
       "\u001b[0m\u001b[1;33m\n",
       "\u001b[0m    \u001b[0mself\u001b[0m\u001b[1;33m.\u001b[0m\u001b[0m_output_mode\u001b[0m \u001b[1;33m=\u001b[0m \u001b[0moutput_mode\u001b[0m\u001b[1;33m\n",
       "\u001b[0m    \u001b[0mself\u001b[0m\u001b[1;33m.\u001b[0m\u001b[0m_output_sequence_length\u001b[0m \u001b[1;33m=\u001b[0m \u001b[0moutput_sequence_length\u001b[0m\u001b[1;33m\n",
       "\u001b[0m\u001b[1;33m\n",
       "\u001b[0m    \u001b[1;31m# VocabularySavedModelSaver will clear the config vocabulary to restore the\u001b[0m\u001b[1;33m\n",
       "\u001b[0m    \u001b[1;31m# lookup table ops directly. We persist this hidden option to persist the\u001b[0m\u001b[1;33m\n",
       "\u001b[0m    \u001b[1;31m# fact that we have have a non-adaptable layer with a manually set vocab.\u001b[0m\u001b[1;33m\n",
       "\u001b[0m    \u001b[0mself\u001b[0m\u001b[1;33m.\u001b[0m\u001b[0m_has_input_vocabulary\u001b[0m \u001b[1;33m=\u001b[0m \u001b[0mkwargs\u001b[0m\u001b[1;33m.\u001b[0m\u001b[0mpop\u001b[0m\u001b[1;33m(\u001b[0m\u001b[1;34m\"has_input_vocabulary\"\u001b[0m\u001b[1;33m,\u001b[0m\u001b[1;33m\n",
       "\u001b[0m                                            \u001b[1;33m(\u001b[0m\u001b[0mvocabulary\u001b[0m \u001b[1;32mis\u001b[0m \u001b[1;32mnot\u001b[0m \u001b[1;32mNone\u001b[0m\u001b[1;33m)\u001b[0m\u001b[1;33m)\u001b[0m\u001b[1;33m\n",
       "\u001b[0m\u001b[1;33m\n",
       "\u001b[0m    \u001b[1;31m# Drop deprecated config options.\u001b[0m\u001b[1;33m\n",
       "\u001b[0m    \u001b[0mkwargs\u001b[0m\u001b[1;33m.\u001b[0m\u001b[0mpop\u001b[0m\u001b[1;33m(\u001b[0m\u001b[1;34m\"vocabulary_size\"\u001b[0m\u001b[1;33m,\u001b[0m \u001b[1;32mNone\u001b[0m\u001b[1;33m)\u001b[0m\u001b[1;33m\n",
       "\u001b[0m\u001b[1;33m\n",
       "\u001b[0m    \u001b[0msuper\u001b[0m\u001b[1;33m(\u001b[0m\u001b[1;33m)\u001b[0m\u001b[1;33m.\u001b[0m\u001b[0m__init__\u001b[0m\u001b[1;33m(\u001b[0m\u001b[1;33m**\u001b[0m\u001b[0mkwargs\u001b[0m\u001b[1;33m)\u001b[0m\u001b[1;33m\n",
       "\u001b[0m    \u001b[0mbase_preprocessing_layer\u001b[0m\u001b[1;33m.\u001b[0m\u001b[0mkeras_kpl_gauge\u001b[0m\u001b[1;33m.\u001b[0m\u001b[0mget_cell\u001b[0m\u001b[1;33m(\u001b[0m\u001b[1;34m\"TextVectorization\"\u001b[0m\u001b[1;33m)\u001b[0m\u001b[1;33m.\u001b[0m\u001b[0mset\u001b[0m\u001b[1;33m(\u001b[0m\u001b[1;33m\n",
       "\u001b[0m        \u001b[1;32mTrue\u001b[0m\u001b[1;33m)\u001b[0m\u001b[1;33m\n",
       "\u001b[0m\u001b[1;33m\n",
       "\u001b[0m    \u001b[0mself\u001b[0m\u001b[1;33m.\u001b[0m\u001b[0m_lookup_layer\u001b[0m \u001b[1;33m=\u001b[0m \u001b[0mstring_lookup\u001b[0m\u001b[1;33m.\u001b[0m\u001b[0mStringLookup\u001b[0m\u001b[1;33m(\u001b[0m\u001b[1;33m\n",
       "\u001b[0m        \u001b[0mmax_tokens\u001b[0m\u001b[1;33m=\u001b[0m\u001b[0mmax_tokens\u001b[0m\u001b[1;33m,\u001b[0m\u001b[1;33m\n",
       "\u001b[0m        \u001b[0mvocabulary\u001b[0m\u001b[1;33m=\u001b[0m\u001b[0mvocabulary\u001b[0m\u001b[1;33m,\u001b[0m\u001b[1;33m\n",
       "\u001b[0m        \u001b[0midf_weights\u001b[0m\u001b[1;33m=\u001b[0m\u001b[0midf_weights\u001b[0m\u001b[1;33m,\u001b[0m\u001b[1;33m\n",
       "\u001b[0m        \u001b[0mpad_to_max_tokens\u001b[0m\u001b[1;33m=\u001b[0m\u001b[0mpad_to_max_tokens\u001b[0m\u001b[1;33m,\u001b[0m\u001b[1;33m\n",
       "\u001b[0m        \u001b[0mmask_token\u001b[0m\u001b[1;33m=\u001b[0m\u001b[1;34m\"\"\u001b[0m\u001b[1;33m,\u001b[0m\u001b[1;33m\n",
       "\u001b[0m        \u001b[0moutput_mode\u001b[0m\u001b[1;33m=\u001b[0m\u001b[0moutput_mode\u001b[0m \u001b[1;32mif\u001b[0m \u001b[0moutput_mode\u001b[0m \u001b[1;32mis\u001b[0m \u001b[1;32mnot\u001b[0m \u001b[1;32mNone\u001b[0m \u001b[1;32melse\u001b[0m \u001b[0mINT\u001b[0m\u001b[1;33m,\u001b[0m\u001b[1;33m\n",
       "\u001b[0m        \u001b[0msparse\u001b[0m\u001b[1;33m=\u001b[0m\u001b[0msparse\u001b[0m\u001b[1;33m,\u001b[0m\u001b[1;33m\n",
       "\u001b[0m        \u001b[0mhas_input_vocabulary\u001b[0m\u001b[1;33m=\u001b[0m\u001b[0mself\u001b[0m\u001b[1;33m.\u001b[0m\u001b[0m_has_input_vocabulary\u001b[0m\u001b[1;33m)\u001b[0m\u001b[1;33m\n",
       "\u001b[0m\u001b[1;33m\n",
       "\u001b[0m  \u001b[1;32mdef\u001b[0m \u001b[0mcompute_output_shape\u001b[0m\u001b[1;33m(\u001b[0m\u001b[0mself\u001b[0m\u001b[1;33m,\u001b[0m \u001b[0minput_shape\u001b[0m\u001b[1;33m)\u001b[0m\u001b[1;33m:\u001b[0m\u001b[1;33m\n",
       "\u001b[0m    \u001b[1;32mif\u001b[0m \u001b[0mself\u001b[0m\u001b[1;33m.\u001b[0m\u001b[0m_output_mode\u001b[0m \u001b[1;33m==\u001b[0m \u001b[0mINT\u001b[0m\u001b[1;33m:\u001b[0m\u001b[1;33m\n",
       "\u001b[0m      \u001b[1;32mreturn\u001b[0m \u001b[0mtf\u001b[0m\u001b[1;33m.\u001b[0m\u001b[0mTensorShape\u001b[0m\u001b[1;33m(\u001b[0m\u001b[1;33m[\u001b[0m\u001b[0minput_shape\u001b[0m\u001b[1;33m[\u001b[0m\u001b[1;36m0\u001b[0m\u001b[1;33m]\u001b[0m\u001b[1;33m,\u001b[0m \u001b[0mself\u001b[0m\u001b[1;33m.\u001b[0m\u001b[0m_output_sequence_length\u001b[0m\u001b[1;33m]\u001b[0m\u001b[1;33m)\u001b[0m\u001b[1;33m\n",
       "\u001b[0m\u001b[1;33m\n",
       "\u001b[0m    \u001b[1;32mif\u001b[0m \u001b[0mself\u001b[0m\u001b[1;33m.\u001b[0m\u001b[0m_split\u001b[0m \u001b[1;32mis\u001b[0m \u001b[1;32mNone\u001b[0m\u001b[1;33m:\u001b[0m\u001b[1;33m\n",
       "\u001b[0m      \u001b[1;32mif\u001b[0m \u001b[0mlen\u001b[0m\u001b[1;33m(\u001b[0m\u001b[0minput_shape\u001b[0m\u001b[1;33m)\u001b[0m \u001b[1;33m<=\u001b[0m \u001b[1;36m1\u001b[0m\u001b[1;33m:\u001b[0m\u001b[1;33m\n",
       "\u001b[0m        \u001b[0minput_shape\u001b[0m \u001b[1;33m=\u001b[0m \u001b[0mtuple\u001b[0m\u001b[1;33m(\u001b[0m\u001b[0minput_shape\u001b[0m\u001b[1;33m)\u001b[0m \u001b[1;33m+\u001b[0m \u001b[1;33m(\u001b[0m\u001b[1;36m1\u001b[0m\u001b[1;33m,\u001b[0m\u001b[1;33m)\u001b[0m\u001b[1;33m\n",
       "\u001b[0m    \u001b[1;32melse\u001b[0m\u001b[1;33m:\u001b[0m\u001b[1;33m\n",
       "\u001b[0m      \u001b[0minput_shape\u001b[0m \u001b[1;33m=\u001b[0m \u001b[0mtuple\u001b[0m\u001b[1;33m(\u001b[0m\u001b[0minput_shape\u001b[0m\u001b[1;33m)\u001b[0m \u001b[1;33m+\u001b[0m \u001b[1;33m(\u001b[0m\u001b[1;32mNone\u001b[0m\u001b[1;33m,\u001b[0m\u001b[1;33m)\u001b[0m\u001b[1;33m\n",
       "\u001b[0m    \u001b[1;32mreturn\u001b[0m \u001b[0mself\u001b[0m\u001b[1;33m.\u001b[0m\u001b[0m_lookup_layer\u001b[0m\u001b[1;33m.\u001b[0m\u001b[0mcompute_output_shape\u001b[0m\u001b[1;33m(\u001b[0m\u001b[0minput_shape\u001b[0m\u001b[1;33m)\u001b[0m\u001b[1;33m\n",
       "\u001b[0m\u001b[1;33m\n",
       "\u001b[0m  \u001b[1;32mdef\u001b[0m \u001b[0mcompute_output_signature\u001b[0m\u001b[1;33m(\u001b[0m\u001b[0mself\u001b[0m\u001b[1;33m,\u001b[0m \u001b[0minput_spec\u001b[0m\u001b[1;33m)\u001b[0m\u001b[1;33m:\u001b[0m\u001b[1;33m\n",
       "\u001b[0m    \u001b[0moutput_shape\u001b[0m \u001b[1;33m=\u001b[0m \u001b[0mself\u001b[0m\u001b[1;33m.\u001b[0m\u001b[0mcompute_output_shape\u001b[0m\u001b[1;33m(\u001b[0m\u001b[0minput_spec\u001b[0m\u001b[1;33m.\u001b[0m\u001b[0mshape\u001b[0m\u001b[1;33m.\u001b[0m\u001b[0mas_list\u001b[0m\u001b[1;33m(\u001b[0m\u001b[1;33m)\u001b[0m\u001b[1;33m)\u001b[0m\u001b[1;33m\n",
       "\u001b[0m    \u001b[0moutput_dtype\u001b[0m \u001b[1;33m=\u001b[0m \u001b[1;33m(\u001b[0m\u001b[0mtf\u001b[0m\u001b[1;33m.\u001b[0m\u001b[0mint64\u001b[0m \u001b[1;32mif\u001b[0m \u001b[0mself\u001b[0m\u001b[1;33m.\u001b[0m\u001b[0m_output_mode\u001b[0m \u001b[1;33m==\u001b[0m \u001b[0mINT\u001b[0m\u001b[1;33m\n",
       "\u001b[0m                    \u001b[1;32melse\u001b[0m \u001b[0mbackend\u001b[0m\u001b[1;33m.\u001b[0m\u001b[0mfloatx\u001b[0m\u001b[1;33m(\u001b[0m\u001b[1;33m)\u001b[0m\u001b[1;33m)\u001b[0m\u001b[1;33m\n",
       "\u001b[0m    \u001b[1;32mreturn\u001b[0m \u001b[0mtf\u001b[0m\u001b[1;33m.\u001b[0m\u001b[0mTensorSpec\u001b[0m\u001b[1;33m(\u001b[0m\u001b[0mshape\u001b[0m\u001b[1;33m=\u001b[0m\u001b[0moutput_shape\u001b[0m\u001b[1;33m,\u001b[0m \u001b[0mdtype\u001b[0m\u001b[1;33m=\u001b[0m\u001b[0moutput_dtype\u001b[0m\u001b[1;33m)\u001b[0m\u001b[1;33m\n",
       "\u001b[0m\u001b[1;33m\n",
       "\u001b[0m  \u001b[1;31m# We override this method solely to generate a docstring.\u001b[0m\u001b[1;33m\n",
       "\u001b[0m  \u001b[1;32mdef\u001b[0m \u001b[0madapt\u001b[0m\u001b[1;33m(\u001b[0m\u001b[0mself\u001b[0m\u001b[1;33m,\u001b[0m \u001b[0mdata\u001b[0m\u001b[1;33m,\u001b[0m \u001b[0mbatch_size\u001b[0m\u001b[1;33m=\u001b[0m\u001b[1;32mNone\u001b[0m\u001b[1;33m,\u001b[0m \u001b[0msteps\u001b[0m\u001b[1;33m=\u001b[0m\u001b[1;32mNone\u001b[0m\u001b[1;33m)\u001b[0m\u001b[1;33m:\u001b[0m\u001b[1;33m\n",
       "\u001b[0m    \u001b[1;34m\"\"\"Computes a vocabulary of string terms from tokens in a dataset.\n",
       "\n",
       "    Calling `adapt()` on a `TextVectorization` layer is an alternative to\n",
       "    passing in a precomputed vocabulary on construction via the `vocabulary`\n",
       "    argument. A `TextVectorization` layer should always be either adapted over a\n",
       "    dataset or supplied with a vocabulary.\n",
       "\n",
       "    During `adapt()`, the layer will build a vocabulary of all string tokens\n",
       "    seen in the dataset, sorted by occurance count, with ties broken by sort\n",
       "    order of the tokens (high to low). At the end of `adapt()`, if `max_tokens`\n",
       "    is set, the voculary wil be truncated to `max_tokens` size. For example,\n",
       "    adapting a layer with `max_tokens=1000` will compute the 1000 most frequent\n",
       "    tokens occurring in the input dataset. If `output_mode='tf-idf'`, `adapt()`\n",
       "    will also learn the document frequencies of each token in the input dataset.\n",
       "\n",
       "    In order to make `TextVectorization` efficient in any distribution context,\n",
       "    the vocabulary is kept static with respect to any compiled `tf.Graph`s that\n",
       "    call the layer. As a consequence, if the layer is adapted a second time,\n",
       "    any models using the layer should be re-compiled. For more information\n",
       "    see `tf.keras.layers.experimental.preprocessing.PreprocessingLayer.adapt`.\n",
       "\n",
       "    `adapt()` is meant only as a single machine utility to compute layer state.\n",
       "    To analyze a dataset that cannot fit on a single machine, see\n",
       "    [Tensorflow Transform](https://www.tensorflow.org/tfx/transform/get_started)\n",
       "    for a multi-machine, map-reduce solution.\n",
       "\n",
       "    Arguments:\n",
       "      data: The data to train on. It can be passed either as a\n",
       "          `tf.data.Dataset`, or as a numpy array.\n",
       "      batch_size: Integer or `None`.\n",
       "          Number of samples per state update.\n",
       "          If unspecified, `batch_size` will default to 32.\n",
       "          Do not specify the `batch_size` if your data is in the\n",
       "          form of datasets, generators, or `keras.utils.Sequence` instances\n",
       "          (since they generate batches).\n",
       "      steps: Integer or `None`.\n",
       "          Total number of steps (batches of samples)\n",
       "          When training with input tensors such as\n",
       "          TensorFlow data tensors, the default `None` is equal to\n",
       "          the number of samples in your dataset divided by\n",
       "          the batch size, or 1 if that cannot be determined. If x is a\n",
       "          `tf.data` dataset, and 'steps' is None, the epoch will run until\n",
       "          the input dataset is exhausted. When passing an infinitely\n",
       "          repeating dataset, you must specify the `steps` argument. This\n",
       "          argument is not supported with array inputs.\n",
       "    \"\"\"\u001b[0m\u001b[1;33m\n",
       "\u001b[0m    \u001b[0msuper\u001b[0m\u001b[1;33m(\u001b[0m\u001b[1;33m)\u001b[0m\u001b[1;33m.\u001b[0m\u001b[0madapt\u001b[0m\u001b[1;33m(\u001b[0m\u001b[0mdata\u001b[0m\u001b[1;33m,\u001b[0m \u001b[0mbatch_size\u001b[0m\u001b[1;33m=\u001b[0m\u001b[0mbatch_size\u001b[0m\u001b[1;33m,\u001b[0m \u001b[0msteps\u001b[0m\u001b[1;33m=\u001b[0m\u001b[0msteps\u001b[0m\u001b[1;33m)\u001b[0m\u001b[1;33m\n",
       "\u001b[0m\u001b[1;33m\n",
       "\u001b[0m  \u001b[1;32mdef\u001b[0m \u001b[0mupdate_state\u001b[0m\u001b[1;33m(\u001b[0m\u001b[0mself\u001b[0m\u001b[1;33m,\u001b[0m \u001b[0mdata\u001b[0m\u001b[1;33m)\u001b[0m\u001b[1;33m:\u001b[0m\u001b[1;33m\n",
       "\u001b[0m    \u001b[0mself\u001b[0m\u001b[1;33m.\u001b[0m\u001b[0m_lookup_layer\u001b[0m\u001b[1;33m.\u001b[0m\u001b[0mupdate_state\u001b[0m\u001b[1;33m(\u001b[0m\u001b[0mself\u001b[0m\u001b[1;33m.\u001b[0m\u001b[0m_preprocess\u001b[0m\u001b[1;33m(\u001b[0m\u001b[0mdata\u001b[0m\u001b[1;33m)\u001b[0m\u001b[1;33m)\u001b[0m\u001b[1;33m\n",
       "\u001b[0m\u001b[1;33m\n",
       "\u001b[0m  \u001b[1;32mdef\u001b[0m \u001b[0mfinalize_state\u001b[0m\u001b[1;33m(\u001b[0m\u001b[0mself\u001b[0m\u001b[1;33m)\u001b[0m\u001b[1;33m:\u001b[0m\u001b[1;33m\n",
       "\u001b[0m    \u001b[0mself\u001b[0m\u001b[1;33m.\u001b[0m\u001b[0m_lookup_layer\u001b[0m\u001b[1;33m.\u001b[0m\u001b[0mfinalize_state\u001b[0m\u001b[1;33m(\u001b[0m\u001b[1;33m)\u001b[0m\u001b[1;33m\n",
       "\u001b[0m\u001b[1;33m\n",
       "\u001b[0m  \u001b[1;32mdef\u001b[0m \u001b[0mreset_state\u001b[0m\u001b[1;33m(\u001b[0m\u001b[0mself\u001b[0m\u001b[1;33m)\u001b[0m\u001b[1;33m:\u001b[0m  \u001b[1;31m# pylint: disable=method-hidden\u001b[0m\u001b[1;33m\n",
       "\u001b[0m    \u001b[0mself\u001b[0m\u001b[1;33m.\u001b[0m\u001b[0m_lookup_layer\u001b[0m\u001b[1;33m.\u001b[0m\u001b[0mreset_state\u001b[0m\u001b[1;33m(\u001b[0m\u001b[1;33m)\u001b[0m\u001b[1;33m\n",
       "\u001b[0m\u001b[1;33m\n",
       "\u001b[0m  \u001b[1;32mdef\u001b[0m \u001b[0mget_vocabulary\u001b[0m\u001b[1;33m(\u001b[0m\u001b[0mself\u001b[0m\u001b[1;33m,\u001b[0m \u001b[0minclude_special_tokens\u001b[0m\u001b[1;33m=\u001b[0m\u001b[1;32mTrue\u001b[0m\u001b[1;33m)\u001b[0m\u001b[1;33m:\u001b[0m\u001b[1;33m\n",
       "\u001b[0m    \u001b[1;34m\"\"\"Returns the current vocabulary of the layer.\n",
       "\n",
       "    Args:\n",
       "      include_special_tokens: If True, the returned vocabulary will include\n",
       "        the padding and OOV tokens, and a term's index in the vocabulary will\n",
       "        equal the term's index when calling the layer. If False, the returned\n",
       "        vocabulary will not include any padding or OOV tokens.\n",
       "    \"\"\"\u001b[0m\u001b[1;33m\n",
       "\u001b[0m    \u001b[1;32mreturn\u001b[0m \u001b[0mself\u001b[0m\u001b[1;33m.\u001b[0m\u001b[0m_lookup_layer\u001b[0m\u001b[1;33m.\u001b[0m\u001b[0mget_vocabulary\u001b[0m\u001b[1;33m(\u001b[0m\u001b[0minclude_special_tokens\u001b[0m\u001b[1;33m)\u001b[0m\u001b[1;33m\n",
       "\u001b[0m\u001b[1;33m\n",
       "\u001b[0m  \u001b[1;32mdef\u001b[0m \u001b[0mvocabulary_size\u001b[0m\u001b[1;33m(\u001b[0m\u001b[0mself\u001b[0m\u001b[1;33m)\u001b[0m\u001b[1;33m:\u001b[0m\u001b[1;33m\n",
       "\u001b[0m    \u001b[1;34m\"\"\"Gets the current size of the layer's vocabulary.\n",
       "\n",
       "    Returns:\n",
       "      The integer size of the voculary, including optional mask and oov indices.\n",
       "    \"\"\"\u001b[0m\u001b[1;33m\n",
       "\u001b[0m    \u001b[1;32mreturn\u001b[0m \u001b[0mself\u001b[0m\u001b[1;33m.\u001b[0m\u001b[0m_lookup_layer\u001b[0m\u001b[1;33m.\u001b[0m\u001b[0mvocabulary_size\u001b[0m\u001b[1;33m(\u001b[0m\u001b[1;33m)\u001b[0m\u001b[1;33m\n",
       "\u001b[0m\u001b[1;33m\n",
       "\u001b[0m  \u001b[1;32mdef\u001b[0m \u001b[0mget_config\u001b[0m\u001b[1;33m(\u001b[0m\u001b[0mself\u001b[0m\u001b[1;33m)\u001b[0m\u001b[1;33m:\u001b[0m\u001b[1;33m\n",
       "\u001b[0m    \u001b[0mvocab\u001b[0m \u001b[1;33m=\u001b[0m \u001b[0mself\u001b[0m\u001b[1;33m.\u001b[0m\u001b[0m_lookup_layer\u001b[0m\u001b[1;33m.\u001b[0m\u001b[0minput_vocabulary\u001b[0m\u001b[1;33m\n",
       "\u001b[0m    \u001b[0midf_weights\u001b[0m \u001b[1;33m=\u001b[0m \u001b[0mself\u001b[0m\u001b[1;33m.\u001b[0m\u001b[0m_lookup_layer\u001b[0m\u001b[1;33m.\u001b[0m\u001b[0minput_idf_weights\u001b[0m\u001b[1;33m\n",
       "\u001b[0m    \u001b[0mconfig\u001b[0m \u001b[1;33m=\u001b[0m \u001b[1;33m{\u001b[0m\u001b[1;33m\n",
       "\u001b[0m        \u001b[1;34m\"max_tokens\"\u001b[0m\u001b[1;33m:\u001b[0m \u001b[0mself\u001b[0m\u001b[1;33m.\u001b[0m\u001b[0m_lookup_layer\u001b[0m\u001b[1;33m.\u001b[0m\u001b[0mmax_tokens\u001b[0m\u001b[1;33m,\u001b[0m\u001b[1;33m\n",
       "\u001b[0m        \u001b[1;34m\"standardize\"\u001b[0m\u001b[1;33m:\u001b[0m \u001b[0mself\u001b[0m\u001b[1;33m.\u001b[0m\u001b[0m_standardize\u001b[0m\u001b[1;33m,\u001b[0m\u001b[1;33m\n",
       "\u001b[0m        \u001b[1;34m\"split\"\u001b[0m\u001b[1;33m:\u001b[0m \u001b[0mself\u001b[0m\u001b[1;33m.\u001b[0m\u001b[0m_split\u001b[0m\u001b[1;33m,\u001b[0m\u001b[1;33m\n",
       "\u001b[0m        \u001b[1;34m\"ngrams\"\u001b[0m\u001b[1;33m:\u001b[0m \u001b[0mself\u001b[0m\u001b[1;33m.\u001b[0m\u001b[0m_ngrams_arg\u001b[0m\u001b[1;33m,\u001b[0m\u001b[1;33m\n",
       "\u001b[0m        \u001b[1;34m\"output_mode\"\u001b[0m\u001b[1;33m:\u001b[0m \u001b[0mself\u001b[0m\u001b[1;33m.\u001b[0m\u001b[0m_output_mode\u001b[0m\u001b[1;33m,\u001b[0m\u001b[1;33m\n",
       "\u001b[0m        \u001b[1;34m\"output_sequence_length\"\u001b[0m\u001b[1;33m:\u001b[0m \u001b[0mself\u001b[0m\u001b[1;33m.\u001b[0m\u001b[0m_output_sequence_length\u001b[0m\u001b[1;33m,\u001b[0m\u001b[1;33m\n",
       "\u001b[0m        \u001b[1;34m\"pad_to_max_tokens\"\u001b[0m\u001b[1;33m:\u001b[0m \u001b[0mself\u001b[0m\u001b[1;33m.\u001b[0m\u001b[0m_lookup_layer\u001b[0m\u001b[1;33m.\u001b[0m\u001b[0mpad_to_max_tokens\u001b[0m\u001b[1;33m,\u001b[0m\u001b[1;33m\n",
       "\u001b[0m        \u001b[1;34m\"sparse\"\u001b[0m\u001b[1;33m:\u001b[0m \u001b[0mself\u001b[0m\u001b[1;33m.\u001b[0m\u001b[0m_lookup_layer\u001b[0m\u001b[1;33m.\u001b[0m\u001b[0msparse\u001b[0m\u001b[1;33m,\u001b[0m\u001b[1;33m\n",
       "\u001b[0m        \u001b[1;34m\"ragged\"\u001b[0m\u001b[1;33m:\u001b[0m \u001b[0mself\u001b[0m\u001b[1;33m.\u001b[0m\u001b[0m_ragged\u001b[0m\u001b[1;33m,\u001b[0m\u001b[1;33m\n",
       "\u001b[0m        \u001b[1;34m\"vocabulary\"\u001b[0m\u001b[1;33m:\u001b[0m \u001b[0mutils\u001b[0m\u001b[1;33m.\u001b[0m\u001b[0mlistify_tensors\u001b[0m\u001b[1;33m(\u001b[0m\u001b[0mvocab\u001b[0m\u001b[1;33m)\u001b[0m\u001b[1;33m,\u001b[0m\u001b[1;33m\n",
       "\u001b[0m        \u001b[1;34m\"idf_weights\"\u001b[0m\u001b[1;33m:\u001b[0m \u001b[0mutils\u001b[0m\u001b[1;33m.\u001b[0m\u001b[0mlistify_tensors\u001b[0m\u001b[1;33m(\u001b[0m\u001b[0midf_weights\u001b[0m\u001b[1;33m)\u001b[0m\u001b[1;33m,\u001b[0m\u001b[1;33m\n",
       "\u001b[0m    \u001b[1;33m}\u001b[0m\u001b[1;33m\n",
       "\u001b[0m    \u001b[0mbase_config\u001b[0m \u001b[1;33m=\u001b[0m \u001b[0msuper\u001b[0m\u001b[1;33m(\u001b[0m\u001b[0mTextVectorization\u001b[0m\u001b[1;33m,\u001b[0m \u001b[0mself\u001b[0m\u001b[1;33m)\u001b[0m\u001b[1;33m.\u001b[0m\u001b[0mget_config\u001b[0m\u001b[1;33m(\u001b[0m\u001b[1;33m)\u001b[0m\u001b[1;33m\n",
       "\u001b[0m    \u001b[1;32mreturn\u001b[0m \u001b[0mdict\u001b[0m\u001b[1;33m(\u001b[0m\u001b[0mlist\u001b[0m\u001b[1;33m(\u001b[0m\u001b[0mbase_config\u001b[0m\u001b[1;33m.\u001b[0m\u001b[0mitems\u001b[0m\u001b[1;33m(\u001b[0m\u001b[1;33m)\u001b[0m\u001b[1;33m)\u001b[0m \u001b[1;33m+\u001b[0m \u001b[0mlist\u001b[0m\u001b[1;33m(\u001b[0m\u001b[0mconfig\u001b[0m\u001b[1;33m.\u001b[0m\u001b[0mitems\u001b[0m\u001b[1;33m(\u001b[0m\u001b[1;33m)\u001b[0m\u001b[1;33m)\u001b[0m\u001b[1;33m)\u001b[0m\u001b[1;33m\n",
       "\u001b[0m\u001b[1;33m\n",
       "\u001b[0m  \u001b[1;32mdef\u001b[0m \u001b[0mset_vocabulary\u001b[0m\u001b[1;33m(\u001b[0m\u001b[0mself\u001b[0m\u001b[1;33m,\u001b[0m \u001b[0mvocabulary\u001b[0m\u001b[1;33m,\u001b[0m \u001b[0midf_weights\u001b[0m\u001b[1;33m=\u001b[0m\u001b[1;32mNone\u001b[0m\u001b[1;33m)\u001b[0m\u001b[1;33m:\u001b[0m\u001b[1;33m\n",
       "\u001b[0m    \u001b[1;34m\"\"\"Sets vocabulary (and optionally document frequency) data for this layer.\n",
       "\n",
       "    This method sets the vocabulary and idf weights for this layer directly,\n",
       "    instead of analyzing a dataset through 'adapt'. It should be used whenever\n",
       "    the vocab (and optionally document frequency) information is already known.\n",
       "    If vocabulary data is already present in the layer, this method will replace\n",
       "    it.\n",
       "\n",
       "    Args:\n",
       "      vocabulary: Either an array or a string path to a text file. If passing an\n",
       "        array, can pass a tuple, list, 1D numpy array, or 1D tensor containing\n",
       "        the vocbulary terms. If passing a file path, the file should contain one\n",
       "        line per term in the vocabulary.\n",
       "      idf_weights: A tuple, list, 1D numpy array, or 1D tensor of inverse\n",
       "        document frequency weights with equal length to vocabulary. Must be set\n",
       "        if `output_mode` is `\"tf_idf\"`. Should not be set otherwise.\n",
       "\n",
       "    Raises:\n",
       "      ValueError: If there are too many inputs, the inputs do not match, or\n",
       "        input data is missing.\n",
       "      RuntimeError: If the vocabulary cannot be set when this function is\n",
       "        called. This happens when `\"multi_hot\"`, `\"count\"`, and \"tf_idf\" modes,\n",
       "        if `pad_to_max_tokens` is False and the layer itself has already been\n",
       "        called.\n",
       "    \"\"\"\u001b[0m\u001b[1;33m\n",
       "\u001b[0m    \u001b[0mself\u001b[0m\u001b[1;33m.\u001b[0m\u001b[0m_lookup_layer\u001b[0m\u001b[1;33m.\u001b[0m\u001b[0mset_vocabulary\u001b[0m\u001b[1;33m(\u001b[0m\u001b[0mvocabulary\u001b[0m\u001b[1;33m,\u001b[0m \u001b[0midf_weights\u001b[0m\u001b[1;33m=\u001b[0m\u001b[0midf_weights\u001b[0m\u001b[1;33m)\u001b[0m\u001b[1;33m\n",
       "\u001b[0m\u001b[1;33m\n",
       "\u001b[0m  \u001b[1;32mdef\u001b[0m \u001b[0m_preprocess\u001b[0m\u001b[1;33m(\u001b[0m\u001b[0mself\u001b[0m\u001b[1;33m,\u001b[0m \u001b[0minputs\u001b[0m\u001b[1;33m)\u001b[0m\u001b[1;33m:\u001b[0m\u001b[1;33m\n",
       "\u001b[0m    \u001b[0minputs\u001b[0m \u001b[1;33m=\u001b[0m \u001b[0mutils\u001b[0m\u001b[1;33m.\u001b[0m\u001b[0mensure_tensor\u001b[0m\u001b[1;33m(\u001b[0m\u001b[0minputs\u001b[0m\u001b[1;33m,\u001b[0m \u001b[0mdtype\u001b[0m\u001b[1;33m=\u001b[0m\u001b[0mtf\u001b[0m\u001b[1;33m.\u001b[0m\u001b[0mstring\u001b[0m\u001b[1;33m)\u001b[0m\u001b[1;33m\n",
       "\u001b[0m    \u001b[1;32mif\u001b[0m \u001b[0mself\u001b[0m\u001b[1;33m.\u001b[0m\u001b[0m_standardize\u001b[0m \u001b[1;32min\u001b[0m \u001b[1;33m(\u001b[0m\u001b[0mLOWER\u001b[0m\u001b[1;33m,\u001b[0m \u001b[0mLOWER_AND_STRIP_PUNCTUATION\u001b[0m\u001b[1;33m)\u001b[0m\u001b[1;33m:\u001b[0m\u001b[1;33m\n",
       "\u001b[0m      \u001b[0minputs\u001b[0m \u001b[1;33m=\u001b[0m \u001b[0mtf\u001b[0m\u001b[1;33m.\u001b[0m\u001b[0mstrings\u001b[0m\u001b[1;33m.\u001b[0m\u001b[0mlower\u001b[0m\u001b[1;33m(\u001b[0m\u001b[0minputs\u001b[0m\u001b[1;33m)\u001b[0m\u001b[1;33m\n",
       "\u001b[0m    \u001b[1;32mif\u001b[0m \u001b[0mself\u001b[0m\u001b[1;33m.\u001b[0m\u001b[0m_standardize\u001b[0m \u001b[1;32min\u001b[0m \u001b[1;33m(\u001b[0m\u001b[0mSTRIP_PUNCTUATION\u001b[0m\u001b[1;33m,\u001b[0m \u001b[0mLOWER_AND_STRIP_PUNCTUATION\u001b[0m\u001b[1;33m)\u001b[0m\u001b[1;33m:\u001b[0m\u001b[1;33m\n",
       "\u001b[0m      \u001b[0minputs\u001b[0m \u001b[1;33m=\u001b[0m \u001b[0mtf\u001b[0m\u001b[1;33m.\u001b[0m\u001b[0mstrings\u001b[0m\u001b[1;33m.\u001b[0m\u001b[0mregex_replace\u001b[0m\u001b[1;33m(\u001b[0m\u001b[0minputs\u001b[0m\u001b[1;33m,\u001b[0m \u001b[0mDEFAULT_STRIP_REGEX\u001b[0m\u001b[1;33m,\u001b[0m \u001b[1;34m\"\"\u001b[0m\u001b[1;33m)\u001b[0m\u001b[1;33m\n",
       "\u001b[0m    \u001b[1;32mif\u001b[0m \u001b[0mcallable\u001b[0m\u001b[1;33m(\u001b[0m\u001b[0mself\u001b[0m\u001b[1;33m.\u001b[0m\u001b[0m_standardize\u001b[0m\u001b[1;33m)\u001b[0m\u001b[1;33m:\u001b[0m\u001b[1;33m\n",
       "\u001b[0m      \u001b[0minputs\u001b[0m \u001b[1;33m=\u001b[0m \u001b[0mself\u001b[0m\u001b[1;33m.\u001b[0m\u001b[0m_standardize\u001b[0m\u001b[1;33m(\u001b[0m\u001b[0minputs\u001b[0m\u001b[1;33m)\u001b[0m\u001b[1;33m\n",
       "\u001b[0m\u001b[1;33m\n",
       "\u001b[0m    \u001b[1;32mif\u001b[0m \u001b[0mself\u001b[0m\u001b[1;33m.\u001b[0m\u001b[0m_split\u001b[0m \u001b[1;32mis\u001b[0m \u001b[1;32mnot\u001b[0m \u001b[1;32mNone\u001b[0m\u001b[1;33m:\u001b[0m\u001b[1;33m\n",
       "\u001b[0m      \u001b[1;31m# If we are splitting, we validate that the 1st axis is of dimension 1 and\u001b[0m\u001b[1;33m\n",
       "\u001b[0m      \u001b[1;31m# so can be squeezed out. We do this here instead of after splitting for\u001b[0m\u001b[1;33m\n",
       "\u001b[0m      \u001b[1;31m# performance reasons - it's more expensive to squeeze a ragged tensor.\u001b[0m\u001b[1;33m\n",
       "\u001b[0m      \u001b[1;32mif\u001b[0m \u001b[0minputs\u001b[0m\u001b[1;33m.\u001b[0m\u001b[0mshape\u001b[0m\u001b[1;33m.\u001b[0m\u001b[0mrank\u001b[0m \u001b[1;33m>\u001b[0m \u001b[1;36m1\u001b[0m\u001b[1;33m:\u001b[0m\u001b[1;33m\n",
       "\u001b[0m        \u001b[1;32mif\u001b[0m \u001b[0minputs\u001b[0m\u001b[1;33m.\u001b[0m\u001b[0mshape\u001b[0m\u001b[1;33m[\u001b[0m\u001b[1;33m-\u001b[0m\u001b[1;36m1\u001b[0m\u001b[1;33m]\u001b[0m \u001b[1;33m!=\u001b[0m \u001b[1;36m1\u001b[0m\u001b[1;33m:\u001b[0m\u001b[1;33m\n",
       "\u001b[0m          \u001b[1;32mraise\u001b[0m \u001b[0mValueError\u001b[0m\u001b[1;33m(\u001b[0m\u001b[1;33m\n",
       "\u001b[0m              \u001b[1;34m\"When using `TextVectorization` to tokenize strings, the input \"\u001b[0m\u001b[1;33m\n",
       "\u001b[0m              \u001b[1;34m\"rank must be 1 or the last shape dimension must be 1. Received: \"\u001b[0m\u001b[1;33m\n",
       "\u001b[0m              \u001b[1;34mf\"inputs.shape={inputs.shape} with rank={inputs.shape.rank}\"\u001b[0m\u001b[1;33m)\u001b[0m\u001b[1;33m\n",
       "\u001b[0m        \u001b[1;32melse\u001b[0m\u001b[1;33m:\u001b[0m\u001b[1;33m\n",
       "\u001b[0m          \u001b[0minputs\u001b[0m \u001b[1;33m=\u001b[0m \u001b[0mtf\u001b[0m\u001b[1;33m.\u001b[0m\u001b[0msqueeze\u001b[0m\u001b[1;33m(\u001b[0m\u001b[0minputs\u001b[0m\u001b[1;33m,\u001b[0m \u001b[0maxis\u001b[0m\u001b[1;33m=\u001b[0m\u001b[1;33m-\u001b[0m\u001b[1;36m1\u001b[0m\u001b[1;33m)\u001b[0m\u001b[1;33m\n",
       "\u001b[0m      \u001b[1;32mif\u001b[0m \u001b[0mself\u001b[0m\u001b[1;33m.\u001b[0m\u001b[0m_split\u001b[0m \u001b[1;33m==\u001b[0m \u001b[0mWHITESPACE\u001b[0m\u001b[1;33m:\u001b[0m\u001b[1;33m\n",
       "\u001b[0m        \u001b[1;31m# This treats multiple whitespaces as one whitespace, and strips leading\u001b[0m\u001b[1;33m\n",
       "\u001b[0m        \u001b[1;31m# and trailing whitespace.\u001b[0m\u001b[1;33m\n",
       "\u001b[0m        \u001b[0minputs\u001b[0m \u001b[1;33m=\u001b[0m \u001b[0mtf\u001b[0m\u001b[1;33m.\u001b[0m\u001b[0mstrings\u001b[0m\u001b[1;33m.\u001b[0m\u001b[0msplit\u001b[0m\u001b[1;33m(\u001b[0m\u001b[0minputs\u001b[0m\u001b[1;33m)\u001b[0m\u001b[1;33m\n",
       "\u001b[0m      \u001b[1;32melif\u001b[0m \u001b[0mself\u001b[0m\u001b[1;33m.\u001b[0m\u001b[0m_split\u001b[0m \u001b[1;33m==\u001b[0m \u001b[0mCHARACTER\u001b[0m\u001b[1;33m:\u001b[0m\u001b[1;33m\n",
       "\u001b[0m        \u001b[0minputs\u001b[0m \u001b[1;33m=\u001b[0m \u001b[0mtf\u001b[0m\u001b[1;33m.\u001b[0m\u001b[0mstrings\u001b[0m\u001b[1;33m.\u001b[0m\u001b[0municode_split\u001b[0m\u001b[1;33m(\u001b[0m\u001b[0minputs\u001b[0m\u001b[1;33m,\u001b[0m \u001b[1;34m\"UTF-8\"\u001b[0m\u001b[1;33m)\u001b[0m\u001b[1;33m\n",
       "\u001b[0m      \u001b[1;32melif\u001b[0m \u001b[0mcallable\u001b[0m\u001b[1;33m(\u001b[0m\u001b[0mself\u001b[0m\u001b[1;33m.\u001b[0m\u001b[0m_split\u001b[0m\u001b[1;33m)\u001b[0m\u001b[1;33m:\u001b[0m\u001b[1;33m\n",
       "\u001b[0m        \u001b[0minputs\u001b[0m \u001b[1;33m=\u001b[0m \u001b[0mself\u001b[0m\u001b[1;33m.\u001b[0m\u001b[0m_split\u001b[0m\u001b[1;33m(\u001b[0m\u001b[0minputs\u001b[0m\u001b[1;33m)\u001b[0m\u001b[1;33m\n",
       "\u001b[0m      \u001b[1;32melse\u001b[0m\u001b[1;33m:\u001b[0m\u001b[1;33m\n",
       "\u001b[0m        \u001b[1;32mraise\u001b[0m \u001b[0mValueError\u001b[0m\u001b[1;33m(\u001b[0m\u001b[1;33m\n",
       "\u001b[0m            \u001b[1;33m(\u001b[0m\u001b[1;34m\"%s is not a supported splitting.\"\u001b[0m\u001b[1;33m\n",
       "\u001b[0m             \u001b[1;34m\"TextVectorization supports the following options \"\u001b[0m\u001b[1;33m\n",
       "\u001b[0m             \u001b[1;34m\"for `split`: None, 'whitespace', or a Callable.\"\u001b[0m\u001b[1;33m)\u001b[0m \u001b[1;33m%\u001b[0m \u001b[0mself\u001b[0m\u001b[1;33m.\u001b[0m\u001b[0m_split\u001b[0m\u001b[1;33m)\u001b[0m\u001b[1;33m\n",
       "\u001b[0m\u001b[1;33m\n",
       "\u001b[0m    \u001b[1;31m# Note that 'inputs' here can be either ragged or dense depending on the\u001b[0m\u001b[1;33m\n",
       "\u001b[0m    \u001b[1;31m# configuration choices for this Layer. The strings.ngrams op, however, does\u001b[0m\u001b[1;33m\n",
       "\u001b[0m    \u001b[1;31m# support both ragged and dense inputs.\u001b[0m\u001b[1;33m\n",
       "\u001b[0m    \u001b[1;32mif\u001b[0m \u001b[0mself\u001b[0m\u001b[1;33m.\u001b[0m\u001b[0m_ngrams\u001b[0m \u001b[1;32mis\u001b[0m \u001b[1;32mnot\u001b[0m \u001b[1;32mNone\u001b[0m\u001b[1;33m:\u001b[0m\u001b[1;33m\n",
       "\u001b[0m      \u001b[0minputs\u001b[0m \u001b[1;33m=\u001b[0m \u001b[0mtf\u001b[0m\u001b[1;33m.\u001b[0m\u001b[0mstrings\u001b[0m\u001b[1;33m.\u001b[0m\u001b[0mngrams\u001b[0m\u001b[1;33m(\u001b[0m\u001b[1;33m\n",
       "\u001b[0m          \u001b[0minputs\u001b[0m\u001b[1;33m,\u001b[0m \u001b[0mngram_width\u001b[0m\u001b[1;33m=\u001b[0m\u001b[0mself\u001b[0m\u001b[1;33m.\u001b[0m\u001b[0m_ngrams\u001b[0m\u001b[1;33m,\u001b[0m \u001b[0mseparator\u001b[0m\u001b[1;33m=\u001b[0m\u001b[1;34m\" \"\u001b[0m\u001b[1;33m)\u001b[0m\u001b[1;33m\n",
       "\u001b[0m\u001b[1;33m\n",
       "\u001b[0m    \u001b[1;32mreturn\u001b[0m \u001b[0minputs\u001b[0m\u001b[1;33m\n",
       "\u001b[0m\u001b[1;33m\n",
       "\u001b[0m  \u001b[1;32mdef\u001b[0m \u001b[0mcall\u001b[0m\u001b[1;33m(\u001b[0m\u001b[0mself\u001b[0m\u001b[1;33m,\u001b[0m \u001b[0minputs\u001b[0m\u001b[1;33m)\u001b[0m\u001b[1;33m:\u001b[0m\u001b[1;33m\n",
       "\u001b[0m    \u001b[1;32mif\u001b[0m \u001b[0misinstance\u001b[0m\u001b[1;33m(\u001b[0m\u001b[0minputs\u001b[0m\u001b[1;33m,\u001b[0m \u001b[1;33m(\u001b[0m\u001b[0mlist\u001b[0m\u001b[1;33m,\u001b[0m \u001b[0mtuple\u001b[0m\u001b[1;33m,\u001b[0m \u001b[0mnp\u001b[0m\u001b[1;33m.\u001b[0m\u001b[0mndarray\u001b[0m\u001b[1;33m)\u001b[0m\u001b[1;33m)\u001b[0m\u001b[1;33m:\u001b[0m\u001b[1;33m\n",
       "\u001b[0m      \u001b[0minputs\u001b[0m \u001b[1;33m=\u001b[0m \u001b[0mtf\u001b[0m\u001b[1;33m.\u001b[0m\u001b[0mconvert_to_tensor\u001b[0m\u001b[1;33m(\u001b[0m\u001b[0minputs\u001b[0m\u001b[1;33m)\u001b[0m\u001b[1;33m\n",
       "\u001b[0m\u001b[1;33m\n",
       "\u001b[0m    \u001b[0minputs\u001b[0m \u001b[1;33m=\u001b[0m \u001b[0mself\u001b[0m\u001b[1;33m.\u001b[0m\u001b[0m_preprocess\u001b[0m\u001b[1;33m(\u001b[0m\u001b[0minputs\u001b[0m\u001b[1;33m)\u001b[0m\u001b[1;33m\n",
       "\u001b[0m\u001b[1;33m\n",
       "\u001b[0m    \u001b[1;31m# If we're not doing any output processing, return right away.\u001b[0m\u001b[1;33m\n",
       "\u001b[0m    \u001b[1;32mif\u001b[0m \u001b[0mself\u001b[0m\u001b[1;33m.\u001b[0m\u001b[0m_output_mode\u001b[0m \u001b[1;32mis\u001b[0m \u001b[1;32mNone\u001b[0m\u001b[1;33m:\u001b[0m\u001b[1;33m\n",
       "\u001b[0m      \u001b[1;32mreturn\u001b[0m \u001b[0minputs\u001b[0m\u001b[1;33m\n",
       "\u001b[0m\u001b[1;33m\n",
       "\u001b[0m    \u001b[0mlookup_data\u001b[0m \u001b[1;33m=\u001b[0m \u001b[0mself\u001b[0m\u001b[1;33m.\u001b[0m\u001b[0m_lookup_layer\u001b[0m\u001b[1;33m(\u001b[0m\u001b[0minputs\u001b[0m\u001b[1;33m)\u001b[0m\u001b[1;33m\n",
       "\u001b[0m\u001b[1;33m\n",
       "\u001b[0m    \u001b[1;31m# For any non-int output, we can return directly from the underlying layer.\u001b[0m\u001b[1;33m\n",
       "\u001b[0m    \u001b[1;32mif\u001b[0m \u001b[0mself\u001b[0m\u001b[1;33m.\u001b[0m\u001b[0m_output_mode\u001b[0m \u001b[1;33m!=\u001b[0m \u001b[0mINT\u001b[0m\u001b[1;33m:\u001b[0m\u001b[1;33m\n",
       "\u001b[0m      \u001b[1;32mreturn\u001b[0m \u001b[0mlookup_data\u001b[0m\u001b[1;33m\n",
       "\u001b[0m\u001b[1;33m\n",
       "\u001b[0m    \u001b[1;32mif\u001b[0m \u001b[0mself\u001b[0m\u001b[1;33m.\u001b[0m\u001b[0m_ragged\u001b[0m\u001b[1;33m:\u001b[0m\u001b[1;33m\n",
       "\u001b[0m      \u001b[1;32mreturn\u001b[0m \u001b[0mlookup_data\u001b[0m\u001b[1;33m\n",
       "\u001b[0m\u001b[1;33m\n",
       "\u001b[0m    \u001b[1;31m# If we have a ragged tensor, we can pad during the conversion to dense.\u001b[0m\u001b[1;33m\n",
       "\u001b[0m    \u001b[1;32mif\u001b[0m \u001b[0mtf_utils\u001b[0m\u001b[1;33m.\u001b[0m\u001b[0mis_ragged\u001b[0m\u001b[1;33m(\u001b[0m\u001b[0mlookup_data\u001b[0m\u001b[1;33m)\u001b[0m\u001b[1;33m:\u001b[0m\u001b[1;33m\n",
       "\u001b[0m      \u001b[0mshape\u001b[0m \u001b[1;33m=\u001b[0m \u001b[0mlookup_data\u001b[0m\u001b[1;33m.\u001b[0m\u001b[0mshape\u001b[0m\u001b[1;33m.\u001b[0m\u001b[0mas_list\u001b[0m\u001b[1;33m(\u001b[0m\u001b[1;33m)\u001b[0m\u001b[1;33m\n",
       "\u001b[0m      \u001b[1;31m# If output sequence length is None, to_tensor will pad the last dimension\u001b[0m\u001b[1;33m\n",
       "\u001b[0m      \u001b[1;31m# to the bounding shape of the ragged dimension.\u001b[0m\u001b[1;33m\n",
       "\u001b[0m      \u001b[0mshape\u001b[0m\u001b[1;33m[\u001b[0m\u001b[1;33m-\u001b[0m\u001b[1;36m1\u001b[0m\u001b[1;33m]\u001b[0m \u001b[1;33m=\u001b[0m \u001b[0mself\u001b[0m\u001b[1;33m.\u001b[0m\u001b[0m_output_sequence_length\u001b[0m\u001b[1;33m\n",
       "\u001b[0m      \u001b[1;32mreturn\u001b[0m \u001b[0mlookup_data\u001b[0m\u001b[1;33m.\u001b[0m\u001b[0mto_tensor\u001b[0m\u001b[1;33m(\u001b[0m\u001b[0mdefault_value\u001b[0m\u001b[1;33m=\u001b[0m\u001b[1;36m0\u001b[0m\u001b[1;33m,\u001b[0m \u001b[0mshape\u001b[0m\u001b[1;33m=\u001b[0m\u001b[0mshape\u001b[0m\u001b[1;33m)\u001b[0m\u001b[1;33m\n",
       "\u001b[0m\u001b[1;33m\n",
       "\u001b[0m    \u001b[1;31m# If we have a dense tensor, we need to pad/trim directly.\u001b[0m\u001b[1;33m\n",
       "\u001b[0m    \u001b[1;32mif\u001b[0m \u001b[0mself\u001b[0m\u001b[1;33m.\u001b[0m\u001b[0m_output_sequence_length\u001b[0m \u001b[1;32mis\u001b[0m \u001b[1;32mnot\u001b[0m \u001b[1;32mNone\u001b[0m\u001b[1;33m:\u001b[0m\u001b[1;33m\n",
       "\u001b[0m      \u001b[1;31m# Maybe trim the output.\u001b[0m\u001b[1;33m\n",
       "\u001b[0m      \u001b[0mlookup_data\u001b[0m \u001b[1;33m=\u001b[0m \u001b[0mlookup_data\u001b[0m\u001b[1;33m[\u001b[0m\u001b[1;33m...\u001b[0m\u001b[1;33m,\u001b[0m \u001b[1;33m:\u001b[0m\u001b[0mself\u001b[0m\u001b[1;33m.\u001b[0m\u001b[0m_output_sequence_length\u001b[0m\u001b[1;33m]\u001b[0m\u001b[1;33m\n",
       "\u001b[0m\u001b[1;33m\n",
       "\u001b[0m      \u001b[1;31m# Maybe pad the output. We need to be careful to use dynamic shape here as\u001b[0m\u001b[1;33m\n",
       "\u001b[0m      \u001b[1;31m# required_space_to_batch_paddings requires a fully known shape.\u001b[0m\u001b[1;33m\n",
       "\u001b[0m      \u001b[0mshape\u001b[0m \u001b[1;33m=\u001b[0m \u001b[0mtf\u001b[0m\u001b[1;33m.\u001b[0m\u001b[0mshape\u001b[0m\u001b[1;33m(\u001b[0m\u001b[0mlookup_data\u001b[0m\u001b[1;33m)\u001b[0m\u001b[1;33m\n",
       "\u001b[0m      \u001b[0mpadded_shape\u001b[0m \u001b[1;33m=\u001b[0m \u001b[0mtf\u001b[0m\u001b[1;33m.\u001b[0m\u001b[0mconcat\u001b[0m\u001b[1;33m(\u001b[0m\u001b[1;33m(\u001b[0m\u001b[0mshape\u001b[0m\u001b[1;33m[\u001b[0m\u001b[1;33m:\u001b[0m\u001b[1;33m-\u001b[0m\u001b[1;36m1\u001b[0m\u001b[1;33m]\u001b[0m\u001b[1;33m,\u001b[0m \u001b[1;33m[\u001b[0m\u001b[0mself\u001b[0m\u001b[1;33m.\u001b[0m\u001b[0m_output_sequence_length\u001b[0m\u001b[1;33m]\u001b[0m\u001b[1;33m)\u001b[0m\u001b[1;33m,\u001b[0m \u001b[1;36m0\u001b[0m\u001b[1;33m)\u001b[0m\u001b[1;33m\n",
       "\u001b[0m      \u001b[0mpadding\u001b[0m\u001b[1;33m,\u001b[0m \u001b[0m_\u001b[0m \u001b[1;33m=\u001b[0m \u001b[0mtf\u001b[0m\u001b[1;33m.\u001b[0m\u001b[0mrequired_space_to_batch_paddings\u001b[0m\u001b[1;33m(\u001b[0m\u001b[0mshape\u001b[0m\u001b[1;33m,\u001b[0m \u001b[0mpadded_shape\u001b[0m\u001b[1;33m)\u001b[0m\u001b[1;33m\n",
       "\u001b[0m      \u001b[1;32mreturn\u001b[0m \u001b[0mtf\u001b[0m\u001b[1;33m.\u001b[0m\u001b[0mpad\u001b[0m\u001b[1;33m(\u001b[0m\u001b[0mlookup_data\u001b[0m\u001b[1;33m,\u001b[0m \u001b[0mpadding\u001b[0m\u001b[1;33m)\u001b[0m\u001b[1;33m\n",
       "\u001b[0m\u001b[1;33m\n",
       "\u001b[0m    \u001b[1;32mreturn\u001b[0m \u001b[0mlookup_data\u001b[0m\u001b[1;33m\n",
       "\u001b[0m\u001b[1;33m\n",
       "\u001b[0m  \u001b[1;33m@\u001b[0m\u001b[0mproperty\u001b[0m\u001b[1;33m\n",
       "\u001b[0m  \u001b[1;32mdef\u001b[0m \u001b[0m_trackable_saved_model_saver\u001b[0m\u001b[1;33m(\u001b[0m\u001b[0mself\u001b[0m\u001b[1;33m)\u001b[0m\u001b[1;33m:\u001b[0m\u001b[1;33m\n",
       "\u001b[0m    \u001b[1;32mreturn\u001b[0m \u001b[0mlayer_serialization\u001b[0m\u001b[1;33m.\u001b[0m\u001b[0mVocabularySavedModelSaver\u001b[0m\u001b[1;33m(\u001b[0m\u001b[0mself\u001b[0m\u001b[1;33m)\u001b[0m\u001b[1;33m\u001b[0m\u001b[1;33m\u001b[0m\u001b[0m\n",
       "\u001b[1;31mFile:\u001b[0m           d:\\machine learning\\comment_toxicity\\nlp\\lib\\site-packages\\keras\\layers\\preprocessing\\text_vectorization.py\n",
       "\u001b[1;31mType:\u001b[0m           ABCMeta\n",
       "\u001b[1;31mSubclasses:\u001b[0m     "
      ]
     },
     "metadata": {},
     "output_type": "display_data"
    }
   ],
   "source": [
    "TextVectorization?? # lowers and strips by default"
   ]
  },
  {
   "cell_type": "code",
   "execution_count": 29,
   "id": "4054e5af-cb2f-4ead-82b2-7c11867c62c4",
   "metadata": {},
   "outputs": [],
   "source": [
    "# PAss all x data through the vecctorizer\n",
    "vectorized_text = vectorizer(X.values)"
   ]
  },
  {
   "cell_type": "code",
   "execution_count": 30,
   "id": "032a30ab-5eee-448e-9906-8a9500925cfa",
   "metadata": {},
   "outputs": [
    {
     "data": {
      "text/plain": [
       "<tf.Tensor: shape=(159571, 1800), dtype=int64, numpy=\n",
       "array([[  643,    76,     2, ...,     0,     0,     0],\n",
       "       [    1,    54,  2506, ...,     0,     0,     0],\n",
       "       [  425,   440,    70, ...,     0,     0,     0],\n",
       "       ...,\n",
       "       [32141,  7329,   383, ...,     0,     0,     0],\n",
       "       [    5,    12,   533, ...,     0,     0,     0],\n",
       "       [    5,     8,   130, ...,     0,     0,     0]], dtype=int64)>"
      ]
     },
     "execution_count": 30,
     "metadata": {},
     "output_type": "execute_result"
    }
   ],
   "source": [
    "vectorized_text"
   ]
  },
  {
   "cell_type": "code",
   "execution_count": 31,
   "id": "138c7a7c-1d5d-4a7e-9ae9-e1fd2c7a7638",
   "metadata": {},
   "outputs": [
    {
     "data": {
      "text/plain": [
       "159571"
      ]
     },
     "execution_count": 31,
     "metadata": {},
     "output_type": "execute_result"
    }
   ],
   "source": [
    "len(X)"
   ]
  },
  {
   "cell_type": "markdown",
   "id": "66297b51-6db8-4302-a85a-d2d907058fc6",
   "metadata": {},
   "source": [
    "## 1.2 Creating the dataset"
   ]
  },
  {
   "cell_type": "code",
   "execution_count": 34,
   "id": "bc2a5d54-894f-4f6e-a1dd-2312c288ac1d",
   "metadata": {},
   "outputs": [],
   "source": [
    "# MCShBaP - map, cache, shuffle, batch, prefetch\n",
    "dataset = tf.data.Dataset.from_tensor_slices((vectorized_text, y)) # input features, target labels\n",
    "dataset = dataset.cache()\n",
    "dataset = dataset.shuffle(160000) # greater than len(X)\n",
    "dataset = dataset.batch(16)\n",
    "dataset = dataset.prefetch(8) # helps prevent bottlenecks"
   ]
  },
  {
   "cell_type": "code",
   "execution_count": 36,
   "id": "cb63f5c0-48ad-4a56-9fcb-f829e72ae5e4",
   "metadata": {},
   "outputs": [
    {
     "data": {
      "text/plain": [
       "((16, 1800), (16, 6))"
      ]
     },
     "execution_count": 36,
     "metadata": {},
     "output_type": "execute_result"
    }
   ],
   "source": [
    "batch_X, batch_y = dataset.as_numpy_iterator().next() # unpacked data and label pair \n",
    "batch_X.shape, batch_y.shape"
   ]
  },
  {
   "cell_type": "code",
   "execution_count": 38,
   "id": "53d78be9-c206-48f1-ae8b-28895e38d43b",
   "metadata": {},
   "outputs": [
    {
     "data": {
      "text/plain": [
       "9974"
      ]
     },
     "execution_count": 38,
     "metadata": {},
     "output_type": "execute_result"
    }
   ],
   "source": [
    "len(dataset) # number of batches of 16"
   ]
  },
  {
   "cell_type": "code",
   "execution_count": 39,
   "id": "3f356cef-35ca-4142-93b5-a1d2e9d91ca0",
   "metadata": {},
   "outputs": [],
   "source": [
    "train = dataset.take(int(len(dataset)*.7)) # 70% train\n",
    "val = dataset.skip(int(len(dataset)*.7)).take(int(len(dataset)*.2)) # 20% val\n",
    "test = dataset.skip(int(len(dataset)*.9)).take(int(len(dataset)*.1)) # 10% test"
   ]
  },
  {
   "cell_type": "code",
   "execution_count": 41,
   "id": "1c92333f-25fa-482e-94c5-3c8e2124fd69",
   "metadata": {},
   "outputs": [],
   "source": [
    "train_generator = train.as_numpy_iterator()"
   ]
  },
  {
   "cell_type": "code",
   "execution_count": 46,
   "id": "1ebb8380-f7aa-46f7-accc-750638952ffe",
   "metadata": {
    "collapsed": true,
    "jupyter": {
     "outputs_hidden": true
    },
    "tags": []
   },
   "outputs": [
    {
     "data": {
      "text/plain": [
       "(array([[    8,    44,   390, ...,     0,     0,     0],\n",
       "        [ 7407, 20754,    15, ...,     0,     0,     0],\n",
       "        [  311,   296,   954, ...,     0,     0,     0],\n",
       "        ...,\n",
       "        [    2,   370, 34190, ...,     0,     0,     0],\n",
       "        [  265,     1,     8, ...,     0,     0,     0],\n",
       "        [90806,     8,    19, ...,     0,     0,     0]], dtype=int64),\n",
       " array([[1, 0, 0, 0, 1, 0],\n",
       "        [0, 0, 0, 0, 0, 0],\n",
       "        [0, 0, 0, 0, 0, 0],\n",
       "        [0, 0, 0, 0, 0, 0],\n",
       "        [0, 0, 0, 0, 0, 0],\n",
       "        [0, 0, 0, 0, 0, 0],\n",
       "        [0, 0, 0, 0, 0, 0],\n",
       "        [0, 0, 0, 0, 0, 0],\n",
       "        [0, 0, 0, 0, 0, 0],\n",
       "        [0, 0, 0, 0, 0, 0],\n",
       "        [0, 0, 0, 0, 0, 0],\n",
       "        [0, 0, 0, 0, 0, 0],\n",
       "        [0, 0, 0, 0, 0, 0],\n",
       "        [0, 0, 0, 0, 0, 0],\n",
       "        [0, 0, 0, 0, 0, 0],\n",
       "        [0, 0, 0, 0, 0, 0]], dtype=int64))"
      ]
     },
     "execution_count": 46,
     "metadata": {},
     "output_type": "execute_result"
    }
   ],
   "source": [
    "train_generator.next() # how the model gets the next value in the dataset"
   ]
  },
  {
   "cell_type": "markdown",
   "id": "320062ff-9a2f-4a9a-b2e4-5deaf2fc6bf4",
   "metadata": {},
   "source": [
    "# 2. Create Sequential Model"
   ]
  },
  {
   "cell_type": "code",
   "execution_count": 53,
   "id": "89ef571b-18e8-47ee-b537-9f914ace2aa7",
   "metadata": {},
   "outputs": [],
   "source": [
    "from tensorflow.keras.models import Sequential\n",
    "from tensorflow.keras.layers import LSTM, Dropout, Bidirectional, Embedding, Dense"
   ]
  },
  {
   "cell_type": "code",
   "execution_count": 56,
   "id": "b23829af-b53d-4cef-8ce8-7b5ce3185c7b",
   "metadata": {},
   "outputs": [],
   "source": [
    "model = Sequential()\n",
    "# Create the embedding layer\n",
    "model.add(Embedding(MAX_FEATURES+1, 32)) # +1 for unknown words, 32 values in length\n",
    "# Bidirectional LSTM layer\n",
    "model.add(Bidirectional(LSTM(32, activation='tanh'))) # tanh is required for LSTM layer when using GPU acceleration\n",
    "# Feature Extraction FC layers\n",
    "model.add(Dense(128, activation='relu'))\n",
    "model.add(Dense(256, activation='relu'))\n",
    "model.add(Dense(128, activation='relu'))\n",
    "# Output with 6 outputs (length of labels y)\n",
    "model.add(Dense(6, activation='sigmoid')) # values output between 0 and 1"
   ]
  },
  {
   "cell_type": "code",
   "execution_count": 57,
   "id": "bfe00480-6100-4c3a-a3cf-8f71260dfe85",
   "metadata": {},
   "outputs": [],
   "source": [
    "model.compile(loss='BinaryCrossentropy', # not categoricalcrossentropy since we are essentially running 6 binary models (multi-output model) \n",
    "            optimizer='Adam')"
   ]
  },
  {
   "cell_type": "code",
   "execution_count": 58,
   "id": "afbab558-e7cf-4bff-90df-dd5f50d67771",
   "metadata": {},
   "outputs": [
    {
     "name": "stdout",
     "output_type": "stream",
     "text": [
      "Model: \"sequential_4\"\n",
      "_________________________________________________________________\n",
      " Layer (type)                Output Shape              Param #   \n",
      "=================================================================\n",
      " embedding_4 (Embedding)     (None, None, 32)          6400032   \n",
      "                                                                 \n",
      " bidirectional_4 (Bidirectio  (None, 64)               16640     \n",
      " nal)                                                            \n",
      "                                                                 \n",
      " dense_8 (Dense)             (None, 128)               8320      \n",
      "                                                                 \n",
      " dense_9 (Dense)             (None, 256)               33024     \n",
      "                                                                 \n",
      " dense_10 (Dense)            (None, 128)               32896     \n",
      "                                                                 \n",
      " dense_11 (Dense)            (None, 6)                 774       \n",
      "                                                                 \n",
      "=================================================================\n",
      "Total params: 6,491,686\n",
      "Trainable params: 6,491,686\n",
      "Non-trainable params: 0\n",
      "_________________________________________________________________\n"
     ]
    }
   ],
   "source": [
    "model.summary()"
   ]
  },
  {
   "cell_type": "code",
   "execution_count": 148,
   "id": "6efd4b85-066a-420a-8151-8d72409a7b09",
   "metadata": {},
   "outputs": [
    {
     "name": "stdout",
     "output_type": "stream",
     "text": [
      "Epoch 1/10\n",
      "6981/6981 [==============================] - 865s 123ms/step - loss: 0.0472 - val_loss: 0.0425\n",
      "Epoch 2/10\n",
      "6981/6981 [==============================] - 863s 124ms/step - loss: 0.0415 - val_loss: 0.0371\n",
      "Epoch 3/10\n",
      "6981/6981 [==============================] - 868s 124ms/step - loss: 0.0373 - val_loss: 0.0329\n",
      "Epoch 4/10\n",
      "6981/6981 [==============================] - 856s 123ms/step - loss: 0.0330 - val_loss: 0.0301\n",
      "Epoch 5/10\n",
      "6981/6981 [==============================] - 878s 126ms/step - loss: 0.0295 - val_loss: 0.0258\n",
      "Epoch 6/10\n",
      "6981/6981 [==============================] - 908s 130ms/step - loss: 0.0265 - val_loss: 0.0225\n",
      "Epoch 7/10\n",
      "6981/6981 [==============================] - 909s 130ms/step - loss: 0.0239 - val_loss: 0.0211\n",
      "Epoch 8/10\n",
      "6981/6981 [==============================] - 914s 131ms/step - loss: 0.0215 - val_loss: 0.0187\n",
      "Epoch 9/10\n",
      "6981/6981 [==============================] - 904s 130ms/step - loss: 0.0192 - val_loss: 0.0157\n",
      "Epoch 10/10\n",
      "6981/6981 [==============================] - 897s 128ms/step - loss: 0.0172 - val_loss: 0.0146\n"
     ]
    }
   ],
   "source": [
    "history = model.fit(train,\n",
    "                   epochs=10,\n",
    "                   validation_data=val)"
   ]
  },
  {
   "cell_type": "code",
   "execution_count": 149,
   "id": "e85e3dc6-b82a-49f3-86df-aab9e79970d2",
   "metadata": {},
   "outputs": [],
   "source": [
    "import matplotlib.pyplot as plt"
   ]
  },
  {
   "cell_type": "code",
   "execution_count": 150,
   "id": "1a0f0803-76cd-4cc6-ac83-eff4e3d5b73c",
   "metadata": {},
   "outputs": [
    {
     "data": {
      "text/plain": [
       "{'loss': [0.047242920845746994,\n",
       "  0.04147062078118324,\n",
       "  0.03727998211979866,\n",
       "  0.03300211951136589,\n",
       "  0.029476525261998177,\n",
       "  0.026543183252215385,\n",
       "  0.02386424131691456,\n",
       "  0.02153678983449936,\n",
       "  0.019191894680261612,\n",
       "  0.01723581925034523],\n",
       " 'val_loss': [0.042483940720558167,\n",
       "  0.0370505228638649,\n",
       "  0.03290226310491562,\n",
       "  0.03006216138601303,\n",
       "  0.025836391374468803,\n",
       "  0.02245575562119484,\n",
       "  0.021112671121954918,\n",
       "  0.018745625391602516,\n",
       "  0.015729114413261414,\n",
       "  0.014555360190570354]}"
      ]
     },
     "execution_count": 150,
     "metadata": {},
     "output_type": "execute_result"
    }
   ],
   "source": [
    "history.history"
   ]
  },
  {
   "cell_type": "code",
   "execution_count": 151,
   "id": "4fe37405-300c-461b-a30c-f8222e4819c7",
   "metadata": {},
   "outputs": [
    {
     "data": {
      "text/plain": [
       "<Figure size 800x500 with 0 Axes>"
      ]
     },
     "metadata": {},
     "output_type": "display_data"
    },
    {
     "data": {
      "image/png": "[encoded data removed]",
      "text/plain": [
       "<Figure size 640x480 with 1 Axes>"
      ]
     },
     "metadata": {},
     "output_type": "display_data"
    }
   ],
   "source": [
    "# Plotting history (only have 1 epoch so wont display anything)\n",
    "plt.figure(figsize=(8, 5))\n",
    "pd.DataFrame(history.history).plot()\n",
    "plt.show();"
   ]
  },
  {
   "cell_type": "markdown",
   "id": "857826f2-df21-47e4-9b68-e93da60d9635",
   "metadata": {},
   "source": [
    "# 3. Make predictions\n",
    "\n",
    "Prediction text needs to be tokenized and batched first before entering the model"
   ]
  },
  {
   "cell_type": "code",
   "execution_count": 152,
   "id": "71160da4-467f-450b-91cf-433f704d9aec",
   "metadata": {},
   "outputs": [],
   "source": [
    "input_text = vectorizer('You freaking suck!')"
   ]
  },
  {
   "cell_type": "code",
   "execution_count": 153,
   "id": "f45f17ca-986e-45b5-8958-b0ae097a7145",
   "metadata": {},
   "outputs": [
    {
     "data": {
      "text/plain": [
       "Index(['toxic', 'severe_toxic', 'obscene', 'threat', 'insult',\n",
       "       'identity_hate'],\n",
       "      dtype='object')"
      ]
     },
     "execution_count": 153,
     "metadata": {},
     "output_type": "execute_result"
    }
   ],
   "source": [
    "df.columns[2:]"
   ]
  },
  {
   "cell_type": "code",
   "execution_count": 154,
   "id": "06e136cf-1c7b-49a7-9702-ee69ac17d555",
   "metadata": {},
   "outputs": [
    {
     "data": {
      "text/plain": [
       "array([[0.9997433 , 0.1354193 , 0.9883477 , 0.00627956, 0.92309344,\n",
       "        0.01430006]], dtype=float32)"
      ]
     },
     "execution_count": 154,
     "metadata": {},
     "output_type": "execute_result"
    }
   ],
   "source": [
    "# Getting the prediction results for each of the columns on the test dataset\n",
    "model.predict(np.expand_dims(input_text, 0))"
   ]
  },
  {
   "cell_type": "code",
   "execution_count": 155,
   "id": "d6bf913b-2b3a-40a7-af8c-1a0cdce92c74",
   "metadata": {},
   "outputs": [],
   "source": [
    "batch = test.as_numpy_iterator().next()"
   ]
  },
  {
   "cell_type": "code",
   "execution_count": 156,
   "id": "382b79bb-401d-4c26-8c8f-8720e61946dc",
   "metadata": {},
   "outputs": [],
   "source": [
    "# Can do predictions on whole batches of the dataset\n",
    "batch_X, batch_y = test.as_numpy_iterator().next()"
   ]
  },
  {
   "cell_type": "code",
   "execution_count": 157,
   "id": "b58a02b8-662f-4396-aaf0-22a2703fe74a",
   "metadata": {},
   "outputs": [
    {
     "data": {
      "text/plain": [
       "array([[0, 0, 0, 0, 0, 0],\n",
       "       [0, 0, 0, 0, 0, 0],\n",
       "       [0, 0, 0, 0, 0, 0],\n",
       "       [0, 0, 0, 0, 0, 0],\n",
       "       [0, 0, 0, 0, 0, 0],\n",
       "       [0, 0, 0, 0, 0, 0],\n",
       "       [1, 0, 0, 0, 1, 0],\n",
       "       [0, 0, 0, 0, 0, 0],\n",
       "       [0, 0, 0, 0, 0, 0],\n",
       "       [1, 0, 0, 0, 0, 0],\n",
       "       [0, 0, 0, 0, 0, 0],\n",
       "       [0, 0, 0, 0, 0, 0],\n",
       "       [0, 0, 0, 0, 0, 0],\n",
       "       [0, 0, 0, 0, 0, 0],\n",
       "       [0, 0, 0, 0, 0, 0],\n",
       "       [0, 0, 0, 0, 0, 0]], dtype=int64)"
      ]
     },
     "execution_count": 157,
     "metadata": {},
     "output_type": "execute_result"
    }
   ],
   "source": [
    "batch_y"
   ]
  },
  {
   "cell_type": "code",
   "execution_count": 158,
   "id": "026e37a6-3c50-4896-bd32-da997a00b331",
   "metadata": {},
   "outputs": [
    {
     "data": {
      "text/plain": [
       "array([[0, 0, 0, 0, 0, 0],\n",
       "       [0, 0, 0, 0, 0, 0],\n",
       "       [0, 0, 0, 0, 0, 0],\n",
       "       [0, 0, 0, 0, 0, 0],\n",
       "       [0, 0, 0, 0, 0, 0],\n",
       "       [0, 0, 0, 0, 0, 0],\n",
       "       [1, 0, 0, 0, 1, 0],\n",
       "       [0, 0, 0, 0, 0, 0],\n",
       "       [0, 0, 0, 0, 0, 0],\n",
       "       [1, 0, 0, 1, 0, 0],\n",
       "       [0, 0, 0, 0, 0, 0],\n",
       "       [0, 0, 0, 0, 0, 0],\n",
       "       [0, 0, 0, 0, 0, 0],\n",
       "       [0, 0, 0, 0, 0, 0],\n",
       "       [0, 0, 0, 0, 0, 0],\n",
       "       [0, 0, 0, 0, 0, 0]])"
      ]
     },
     "execution_count": 158,
     "metadata": {},
     "output_type": "execute_result"
    }
   ],
   "source": [
    "(model.predict(batch_X) > 0.5).astype(int)"
   ]
  },
  {
   "cell_type": "code",
   "execution_count": 159,
   "id": "9303f346-de0b-4997-95c4-50cf5a960435",
   "metadata": {},
   "outputs": [],
   "source": [
    "res = model.predict(batch_X)"
   ]
  },
  {
   "cell_type": "markdown",
   "id": "8d07ddc1-ed90-4392-8637-e4268f7ef58b",
   "metadata": {},
   "source": [
    "# 4. Evaluate model"
   ]
  },
  {
   "cell_type": "code",
   "execution_count": 160,
   "id": "259bee27-b196-4007-ba4c-d1dd81d54121",
   "metadata": {},
   "outputs": [],
   "source": [
    "from tensorflow.keras.metrics import Precision, Recall, CategoricalAccuracy"
   ]
  },
  {
   "cell_type": "code",
   "execution_count": 161,
   "id": "10d3eb4d-d58b-485d-93bd-5c9c841a38a9",
   "metadata": {},
   "outputs": [],
   "source": [
    "pre = Precision()\n",
    "re = Recall()\n",
    "acc = CategoricalAccuracy()"
   ]
  },
  {
   "cell_type": "code",
   "execution_count": 162,
   "id": "70f289f5-c077-49d9-ae5c-43a841268ba3",
   "metadata": {
    "tags": []
   },
   "outputs": [],
   "source": [
    "# Loop every batch in the pipeline\n",
    "for batch in test.as_numpy_iterator(): \n",
    "    # Unpack the batch \n",
    "    X_true, y_true = batch\n",
    "    # Make a prediction \n",
    "    yhat = model.predict(X_true)\n",
    "    \n",
    "    # Flatten the predictions\n",
    "    y_true = y_true.flatten()\n",
    "    yhat = yhat.flatten()\n",
    "    \n",
    "    pre.update_state(y_true, yhat)\n",
    "    re.update_state(y_true, yhat)\n",
    "    acc.update_state(y_true, yhat)"
   ]
  },
  {
   "cell_type": "code",
   "execution_count": 163,
   "id": "70e35cae-9675-4f66-8f70-250130623b4e",
   "metadata": {},
   "outputs": [
    {
     "name": "stdout",
     "output_type": "stream",
     "text": [
      "Precision: 0.9244762659072876, Recall:0.9237124919891357, Accuracy:0.5165496468544006\n"
     ]
    }
   ],
   "source": [
    "print(f'Precision: {pre.result().numpy()}, Recall:{re.result().numpy()}, Accuracy:{acc.result().numpy()}')"
   ]
  },
  {
   "cell_type": "markdown",
   "id": "d63f5b4e-6285-4ce8-83e8-9bb75d91f5bb",
   "metadata": {},
   "source": [
    "# 5. Test and Gradio"
   ]
  },
  {
   "cell_type": "code",
   "execution_count": 116,
   "id": "6c5679bb-8d35-42e8-86e8-09be4b0d8991",
   "metadata": {
    "collapsed": true,
    "jupyter": {
     "outputs_hidden": true
    },
    "tags": []
   },
   "outputs": [
    {
     "name": "stdout",
     "output_type": "stream",
     "text": [
      "Collecting gradio\n",
      "  Downloading gradio-3.35.2-py3-none-any.whl (19.7 MB)\n",
      "                                              0.0/19.7 MB ? eta -:--:--\n",
      "                                              0.2/19.7 MB 4.0 MB/s eta 0:00:05\n",
      "     ---                                      1.7/19.7 MB 18.1 MB/s eta 0:00:01\n",
      "     ----------                               5.2/19.7 MB 36.9 MB/s eta 0:00:01\n",
      "     -----------------                        8.7/19.7 MB 46.6 MB/s eta 0:00:01\n",
      "     ------------------------                12.2/19.7 MB 72.6 MB/s eta 0:00:01\n",
      "     -------------------------------         15.9/19.7 MB 72.6 MB/s eta 0:00:01\n",
      "     --------------------------------------  19.5/19.7 MB 72.6 MB/s eta 0:00:01\n",
      "     --------------------------------------  19.7/19.7 MB 72.6 MB/s eta 0:00:01\n",
      "     --------------------------------------- 19.7/19.7 MB 59.5 MB/s eta 0:00:00\n",
      "Collecting jinja2\n",
      "  Downloading Jinja2-3.1.2-py3-none-any.whl (133 kB)\n",
      "                                              0.0/133.1 kB ? eta -:--:--\n",
      "     -------------------------------------- 133.1/133.1 kB 7.7 MB/s eta 0:00:00\n",
      "Collecting aiofiles (from gradio)\n",
      "  Downloading aiofiles-23.1.0-py3-none-any.whl (14 kB)\n",
      "Collecting aiohttp (from gradio)\n",
      "  Downloading aiohttp-3.8.4-cp310-cp310-win_amd64.whl (319 kB)\n",
      "                                              0.0/319.8 kB ? eta -:--:--\n",
      "     ---------------------------------------- 319.8/319.8 kB ? eta 0:00:00\n",
      "Collecting altair>=4.2.0 (from gradio)\n",
      "  Downloading altair-5.0.1-py3-none-any.whl (471 kB)\n",
      "                                              0.0/471.5 kB ? eta -:--:--\n",
      "     ---------------------------------------- 471.5/471.5 kB ? eta 0:00:00\n",
      "Collecting fastapi (from gradio)\n",
      "  Downloading fastapi-0.99.1-py3-none-any.whl (58 kB)\n",
      "                                              0.0/58.4 kB ? eta -:--:--\n",
      "     ---------------------------------------- 58.4/58.4 kB 3.0 MB/s eta 0:00:00\n",
      "Collecting ffmpy (from gradio)\n",
      "  Downloading ffmpy-0.3.0.tar.gz (4.8 kB)\n",
      "  Preparing metadata (setup.py): started\n",
      "  Preparing metadata (setup.py): finished with status 'done'\n",
      "Collecting gradio-client>=0.2.7 (from gradio)\n",
      "  Downloading gradio_client-0.2.7-py3-none-any.whl (288 kB)\n",
      "                                              0.0/288.4 kB ? eta -:--:--\n",
      "     ---------------------------------------- 288.4/288.4 kB ? eta 0:00:00\n",
      "Collecting httpx (from gradio)\n",
      "  Downloading httpx-0.24.1-py3-none-any.whl (75 kB)\n",
      "                                              0.0/75.4 kB ? eta -:--:--\n",
      "     ---------------------------------------- 75.4/75.4 kB 4.1 MB/s eta 0:00:00\n",
      "Collecting huggingface-hub>=0.14.0 (from gradio)\n",
      "  Downloading huggingface_hub-0.15.1-py3-none-any.whl (236 kB)\n",
      "                                              0.0/236.8 kB ? eta -:--:--\n",
      "     ---------------------------------------- 236.8/236.8 kB ? eta 0:00:00\n",
      "Collecting markdown-it-py[linkify]>=2.0.0 (from gradio)\n",
      "  Downloading markdown_it_py-3.0.0-py3-none-any.whl (87 kB)\n",
      "                                              0.0/87.5 kB ? eta -:--:--\n",
      "     ---------------------------------------- 87.5/87.5 kB ? eta 0:00:00\n",
      "Requirement already satisfied: markupsafe in d:\\machine learning\\comment_toxicity\\nlp\\lib\\site-packages (from gradio) (2.1.3)\n",
      "Requirement already satisfied: matplotlib in d:\\machine learning\\comment_toxicity\\nlp\\lib\\site-packages (from gradio) (3.7.1)\n",
      "Collecting mdit-py-plugins<=0.3.3 (from gradio)\n",
      "  Downloading mdit_py_plugins-0.3.3-py3-none-any.whl (50 kB)\n",
      "                                              0.0/50.5 kB ? eta -:--:--\n",
      "     ---------------------------------------- 50.5/50.5 kB 2.7 MB/s eta 0:00:00\n",
      "Requirement already satisfied: numpy in d:\\machine learning\\comment_toxicity\\nlp\\lib\\site-packages (from gradio) (1.25.0)\n",
      "Collecting orjson (from gradio)\n",
      "  Downloading orjson-3.9.1-cp310-none-win_amd64.whl (191 kB)\n",
      "                                              0.0/191.7 kB ? eta -:--:--\n",
      "     ---------------------------------------- 191.7/191.7 kB ? eta 0:00:00\n",
      "Requirement already satisfied: pandas in d:\\machine learning\\comment_toxicity\\nlp\\lib\\site-packages (from gradio) (2.0.3)\n",
      "Requirement already satisfied: pillow in d:\\machine learning\\comment_toxicity\\nlp\\lib\\site-packages (from gradio) (10.0.0)\n",
      "Collecting pydantic (from gradio)\n",
      "  Downloading pydantic-2.0-py3-none-any.whl (355 kB)\n",
      "                                              0.0/355.6 kB ? eta -:--:--\n",
      "     ------------------------------------- 355.6/355.6 kB 23.0 MB/s eta 0:00:00\n",
      "Collecting pydub (from gradio)\n",
      "  Downloading pydub-0.25.1-py2.py3-none-any.whl (32 kB)\n",
      "Requirement already satisfied: pygments>=2.12.0 in d:\\machine learning\\comment_toxicity\\nlp\\lib\\site-packages (from gradio) (2.15.1)\n",
      "Collecting python-multipart (from gradio)\n",
      "  Downloading python_multipart-0.0.6-py3-none-any.whl (45 kB)\n",
      "                                              0.0/45.7 kB ? eta -:--:--\n",
      "     ---------------------------------------- 45.7/45.7 kB ? eta 0:00:00\n",
      "Collecting pyyaml (from gradio)\n",
      "  Using cached PyYAML-6.0-cp310-cp310-win_amd64.whl (151 kB)\n",
      "Requirement already satisfied: requests in d:\\machine learning\\comment_toxicity\\nlp\\lib\\site-packages (from gradio) (2.31.0)\n",
      "Collecting semantic-version (from gradio)\n",
      "  Downloading semantic_version-2.10.0-py2.py3-none-any.whl (15 kB)\n",
      "Collecting uvicorn>=0.14.0 (from gradio)\n",
      "  Downloading uvicorn-0.22.0-py3-none-any.whl (58 kB)\n",
      "                                              0.0/58.3 kB ? eta -:--:--\n",
      "     ---------------------------------------- 58.3/58.3 kB 3.0 MB/s eta 0:00:00\n",
      "Collecting websockets>=10.0 (from gradio)\n",
      "  Downloading websockets-11.0.3-cp310-cp310-win_amd64.whl (124 kB)\n",
      "                                              0.0/124.7 kB ? eta -:--:--\n",
      "     ---------------------------------------- 124.7/124.7 kB ? eta 0:00:00\n",
      "Collecting jsonschema>=3.0 (from altair>=4.2.0->gradio)\n",
      "  Downloading jsonschema-4.17.3-py3-none-any.whl (90 kB)\n",
      "                                              0.0/90.4 kB ? eta -:--:--\n",
      "     ---------------------------------------- 90.4/90.4 kB ? eta 0:00:00\n",
      "Collecting toolz (from altair>=4.2.0->gradio)\n",
      "  Downloading toolz-0.12.0-py3-none-any.whl (55 kB)\n",
      "                                              0.0/55.8 kB ? eta -:--:--\n",
      "     ---------------------------------------- 55.8/55.8 kB ? eta 0:00:00\n",
      "Requirement already satisfied: typing-extensions>=4.0.1 in d:\\machine learning\\comment_toxicity\\nlp\\lib\\site-packages (from altair>=4.2.0->gradio) (4.7.1)\n",
      "Collecting fsspec (from gradio-client>=0.2.7->gradio)\n",
      "  Downloading fsspec-2023.6.0-py3-none-any.whl (163 kB)\n",
      "                                              0.0/163.8 kB ? eta -:--:--\n",
      "     ---------------------------------------- 163.8/163.8 kB ? eta 0:00:00\n",
      "Requirement already satisfied: packaging in d:\\machine learning\\comment_toxicity\\nlp\\lib\\site-packages (from gradio-client>=0.2.7->gradio) (23.1)\n",
      "Collecting filelock (from huggingface-hub>=0.14.0->gradio)\n",
      "  Downloading filelock-3.12.2-py3-none-any.whl (10 kB)\n",
      "Collecting tqdm>=4.42.1 (from huggingface-hub>=0.14.0->gradio)\n",
      "  Downloading tqdm-4.65.0-py3-none-any.whl (77 kB)\n",
      "                                              0.0/77.1 kB ? eta -:--:--\n",
      "     ---------------------------------------- 77.1/77.1 kB ? eta 0:00:00\n",
      "Collecting mdurl~=0.1 (from markdown-it-py[linkify]>=2.0.0->gradio)\n",
      "  Downloading mdurl-0.1.2-py3-none-any.whl (10.0 kB)\n",
      "Collecting linkify-it-py<3,>=1 (from markdown-it-py[linkify]>=2.0.0->gradio)\n",
      "  Downloading linkify_it_py-2.0.2-py3-none-any.whl (19 kB)\n",
      "INFO: pip is looking at multiple versions of mdit-py-plugins to determine which version is compatible with other requirements. This could take a while.\n",
      "Collecting mdit-py-plugins<=0.3.3 (from gradio)\n",
      "  Downloading mdit_py_plugins-0.3.2-py3-none-any.whl (50 kB)\n",
      "                                              0.0/50.4 kB ? eta -:--:--\n",
      "     ---------------------------------------- 50.4/50.4 kB ? eta 0:00:00\n",
      "  Downloading mdit_py_plugins-0.3.1-py3-none-any.whl (46 kB)\n",
      "                                              0.0/46.5 kB ? eta -:--:--\n",
      "     ---------------------------------------- 46.5/46.5 kB ? eta 0:00:00\n",
      "  Downloading mdit_py_plugins-0.3.0-py3-none-any.whl (43 kB)\n",
      "                                              0.0/43.7 kB ? eta -:--:--\n",
      "     ---------------------------------------- 43.7/43.7 kB ? eta 0:00:00\n",
      "  Downloading mdit_py_plugins-0.2.8-py3-none-any.whl (41 kB)\n",
      "                                              0.0/41.0 kB ? eta -:--:--\n",
      "     ---------------------------------------- 41.0/41.0 kB 1.9 MB/s eta 0:00:00\n",
      "  Downloading mdit_py_plugins-0.2.7-py3-none-any.whl (41 kB)\n",
      "                                              0.0/41.0 kB ? eta -:--:--\n",
      "     ---------------------------------------- 41.0/41.0 kB ? eta 0:00:00\n",
      "  Downloading mdit_py_plugins-0.2.6-py3-none-any.whl (39 kB)\n",
      "  Downloading mdit_py_plugins-0.2.5-py3-none-any.whl (39 kB)\n",
      "INFO: pip is looking at multiple versions of mdit-py-plugins to determine which version is compatible with other requirements. This could take a while.\n",
      "  Downloading mdit_py_plugins-0.2.4-py3-none-any.whl (39 kB)\n",
      "  Downloading mdit_py_plugins-0.2.3-py3-none-any.whl (39 kB)\n",
      "  Downloading mdit_py_plugins-0.2.2-py3-none-any.whl (39 kB)\n",
      "  Downloading mdit_py_plugins-0.2.1-py3-none-any.whl (38 kB)\n",
      "  Downloading mdit_py_plugins-0.2.0-py3-none-any.whl (38 kB)\n",
      "INFO: This is taking longer than usual. You might need to provide the dependency resolver with stricter constraints to reduce runtime. See https://pip.pypa.io/warnings/backtracking for guidance. If you want to abort this run, press Ctrl + C.\n",
      "  Downloading mdit_py_plugins-0.1.0-py3-none-any.whl (37 kB)\n",
      "Collecting markdown-it-py[linkify]>=2.0.0 (from gradio)\n",
      "  Downloading markdown_it_py-2.2.0-py3-none-any.whl (84 kB)\n",
      "                                              0.0/84.5 kB ? eta -:--:--\n",
      "     ---------------------------------------- 84.5/84.5 kB ? eta 0:00:00\n",
      "Requirement already satisfied: python-dateutil>=2.8.2 in d:\\machine learning\\comment_toxicity\\nlp\\lib\\site-packages (from pandas->gradio) (2.8.2)\n",
      "Requirement already satisfied: pytz>=2020.1 in d:\\machine learning\\comment_toxicity\\nlp\\lib\\site-packages (from pandas->gradio) (2023.3)\n",
      "Requirement already satisfied: tzdata>=2022.1 in d:\\machine learning\\comment_toxicity\\nlp\\lib\\site-packages (from pandas->gradio) (2023.3)\n",
      "Collecting click>=7.0 (from uvicorn>=0.14.0->gradio)\n",
      "  Using cached click-8.1.3-py3-none-any.whl (96 kB)\n",
      "Collecting h11>=0.8 (from uvicorn>=0.14.0->gradio)\n",
      "  Downloading h11-0.14.0-py3-none-any.whl (58 kB)\n",
      "                                              0.0/58.3 kB ? eta -:--:--\n",
      "     ---------------------------------------- 58.3/58.3 kB ? eta 0:00:00\n",
      "Collecting attrs>=17.3.0 (from aiohttp->gradio)\n",
      "  Downloading attrs-23.1.0-py3-none-any.whl (61 kB)\n",
      "                                              0.0/61.2 kB ? eta -:--:--\n",
      "     ---------------------------------------- 61.2/61.2 kB ? eta 0:00:00\n",
      "Requirement already satisfied: charset-normalizer<4.0,>=2.0 in d:\\machine learning\\comment_toxicity\\nlp\\lib\\site-packages (from aiohttp->gradio) (3.1.0)\n",
      "Collecting multidict<7.0,>=4.5 (from aiohttp->gradio)\n",
      "  Downloading multidict-6.0.4-cp310-cp310-win_amd64.whl (28 kB)\n",
      "Collecting async-timeout<5.0,>=4.0.0a3 (from aiohttp->gradio)\n",
      "  Downloading async_timeout-4.0.2-py3-none-any.whl (5.8 kB)\n",
      "Collecting yarl<2.0,>=1.0 (from aiohttp->gradio)\n",
      "  Downloading yarl-1.9.2-cp310-cp310-win_amd64.whl (61 kB)\n",
      "                                              0.0/61.0 kB ? eta -:--:--\n",
      "     ---------------------------------------- 61.0/61.0 kB 3.2 MB/s eta 0:00:00\n",
      "Collecting frozenlist>=1.1.1 (from aiohttp->gradio)\n",
      "  Downloading frozenlist-1.3.3-cp310-cp310-win_amd64.whl (33 kB)\n",
      "Collecting aiosignal>=1.1.2 (from aiohttp->gradio)\n",
      "  Downloading aiosignal-1.3.1-py3-none-any.whl (7.6 kB)\n",
      "Collecting pydantic (from gradio)\n",
      "  Downloading pydantic-1.10.10-cp310-cp310-win_amd64.whl (2.1 MB)\n",
      "                                              0.0/2.1 MB ? eta -:--:--\n",
      "     ---------------------------------------- 2.1/2.1 MB 46.0 MB/s eta 0:00:00\n",
      "Collecting starlette<0.28.0,>=0.27.0 (from fastapi->gradio)\n",
      "  Downloading starlette-0.27.0-py3-none-any.whl (66 kB)\n",
      "                                              0.0/67.0 kB ? eta -:--:--\n",
      "     ---------------------------------------- 67.0/67.0 kB ? eta 0:00:00\n",
      "Requirement already satisfied: certifi in d:\\machine learning\\comment_toxicity\\nlp\\lib\\site-packages (from httpx->gradio) (2023.5.7)\n",
      "Collecting httpcore<0.18.0,>=0.15.0 (from httpx->gradio)\n",
      "  Downloading httpcore-0.17.2-py3-none-any.whl (72 kB)\n",
      "                                              0.0/72.5 kB ? eta -:--:--\n",
      "     ---------------------------------------- 72.5/72.5 kB ? eta 0:00:00\n",
      "Requirement already satisfied: idna in d:\\machine learning\\comment_toxicity\\nlp\\lib\\site-packages (from httpx->gradio) (3.4)\n",
      "Collecting sniffio (from httpx->gradio)\n",
      "  Using cached sniffio-1.3.0-py3-none-any.whl (10 kB)\n",
      "Requirement already satisfied: contourpy>=1.0.1 in d:\\machine learning\\comment_toxicity\\nlp\\lib\\site-packages (from matplotlib->gradio) (1.1.0)\n",
      "Requirement already satisfied: cycler>=0.10 in d:\\machine learning\\comment_toxicity\\nlp\\lib\\site-packages (from matplotlib->gradio) (0.11.0)\n",
      "Requirement already satisfied: fonttools>=4.22.0 in d:\\machine learning\\comment_toxicity\\nlp\\lib\\site-packages (from matplotlib->gradio) (4.40.0)\n",
      "Requirement already satisfied: kiwisolver>=1.0.1 in d:\\machine learning\\comment_toxicity\\nlp\\lib\\site-packages (from matplotlib->gradio) (1.4.4)\n",
      "Requirement already satisfied: pyparsing>=2.3.1 in d:\\machine learning\\comment_toxicity\\nlp\\lib\\site-packages (from matplotlib->gradio) (3.1.0)\n",
      "Requirement already satisfied: urllib3<3,>=1.21.1 in d:\\machine learning\\comment_toxicity\\nlp\\lib\\site-packages (from requests->gradio) (1.26.16)\n",
      "Requirement already satisfied: colorama in d:\\machine learning\\comment_toxicity\\nlp\\lib\\site-packages (from click>=7.0->uvicorn>=0.14.0->gradio) (0.4.6)\n",
      "Collecting anyio<5.0,>=3.0 (from httpcore<0.18.0,>=0.15.0->httpx->gradio)\n",
      "  Downloading anyio-3.7.0-py3-none-any.whl (80 kB)\n",
      "                                              0.0/80.9 kB ? eta -:--:--\n",
      "     ---------------------------------------- 80.9/80.9 kB ? eta 0:00:00\n",
      "Collecting pyrsistent!=0.17.0,!=0.17.1,!=0.17.2,>=0.14.0 (from jsonschema>=3.0->altair>=4.2.0->gradio)\n",
      "  Downloading pyrsistent-0.19.3-cp310-cp310-win_amd64.whl (62 kB)\n",
      "                                              0.0/62.7 kB ? eta -:--:--\n",
      "     ---------------------------------------- 62.7/62.7 kB 3.3 MB/s eta 0:00:00\n",
      "Collecting uc-micro-py (from linkify-it-py<3,>=1->markdown-it-py[linkify]>=2.0.0->gradio)\n",
      "  Downloading uc_micro_py-1.0.2-py3-none-any.whl (6.2 kB)\n",
      "Requirement already satisfied: six>=1.5 in d:\\machine learning\\comment_toxicity\\nlp\\lib\\site-packages (from python-dateutil>=2.8.2->pandas->gradio) (1.16.0)\n",
      "Collecting exceptiongroup (from anyio<5.0,>=3.0->httpcore<0.18.0,>=0.15.0->httpx->gradio)\n",
      "  Downloading exceptiongroup-1.1.2-py3-none-any.whl (14 kB)\n",
      "Building wheels for collected packages: ffmpy\n",
      "  Building wheel for ffmpy (setup.py): started\n",
      "  Building wheel for ffmpy (setup.py): finished with status 'done'\n",
      "  Created wheel for ffmpy: filename=ffmpy-0.3.0-py3-none-any.whl size=4714 sha256=1fe3aa9b2777f2db1437be6884ea560212ad85d0b3e46862c9aa01d5082e1bdb\n",
      "  Stored in directory: c:\\users\\david\\appdata\\local\\pip\\cache\\wheels\\0c\\c2\\0e\\3b9c6845c6a4e35beb90910cc70d9ac9ab5d47402bd62af0df\n",
      "Successfully built ffmpy\n",
      "Installing collected packages: pydub, ffmpy, websockets, uc-micro-py, tqdm, toolz, sniffio, semantic-version, pyyaml, python-multipart, pyrsistent, pydantic, orjson, multidict, mdurl, jinja2, h11, fsspec, frozenlist, filelock, exceptiongroup, click, attrs, async-timeout, aiofiles, yarl, uvicorn, markdown-it-py, linkify-it-py, jsonschema, huggingface-hub, anyio, aiosignal, starlette, mdit-py-plugins, httpcore, altair, aiohttp, httpx, fastapi, gradio-client, gradio\n",
      "Successfully installed aiofiles-23.1.0 aiohttp-3.8.4 aiosignal-1.3.1 altair-5.0.1 anyio-3.7.0 async-timeout-4.0.2 attrs-23.1.0 click-8.1.3 exceptiongroup-1.1.2 fastapi-0.99.1 ffmpy-0.3.0 filelock-3.12.2 frozenlist-1.3.3 fsspec-2023.6.0 gradio-3.35.2 gradio-client-0.2.7 h11-0.14.0 httpcore-0.17.2 httpx-0.24.1 huggingface-hub-0.15.1 jinja2-3.1.2 jsonschema-4.17.3 linkify-it-py-2.0.2 markdown-it-py-2.2.0 mdit-py-plugins-0.3.3 mdurl-0.1.2 multidict-6.0.4 orjson-3.9.1 pydantic-1.10.10 pydub-0.25.1 pyrsistent-0.19.3 python-multipart-0.0.6 pyyaml-6.0 semantic-version-2.10.0 sniffio-1.3.0 starlette-0.27.0 toolz-0.12.0 tqdm-4.65.0 uc-micro-py-1.0.2 uvicorn-0.22.0 websockets-11.0.3 yarl-1.9.2\n"
     ]
    }
   ],
   "source": [
    "!pip install gradio jinja2"
   ]
  },
  {
   "cell_type": "code",
   "execution_count": 125,
   "id": "51de5d47-3e3e-41a5-a6b4-9b574c47001f",
   "metadata": {
    "collapsed": true,
    "jupyter": {
     "outputs_hidden": true
    },
    "tags": []
   },
   "outputs": [
    {
     "name": "stdout",
     "output_type": "stream",
     "text": [
      "Requirement already satisfied: ipywidgets in d:\\machine learning\\comment_toxicity\\nlp\\lib\\site-packages (8.0.6)\n",
      "Requirement already satisfied: ipykernel>=4.5.1 in d:\\machine learning\\comment_toxicity\\nlp\\lib\\site-packages (from ipywidgets) (6.23.3)\n",
      "Requirement already satisfied: ipython>=6.1.0 in d:\\machine learning\\comment_toxicity\\nlp\\lib\\site-packages (from ipywidgets) (8.14.0)\n",
      "Requirement already satisfied: traitlets>=4.3.1 in d:\\machine learning\\comment_toxicity\\nlp\\lib\\site-packages (from ipywidgets) (5.9.0)\n",
      "Requirement already satisfied: widgetsnbextension~=4.0.7 in d:\\machine learning\\comment_toxicity\\nlp\\lib\\site-packages (from ipywidgets) (4.0.7)\n",
      "Requirement already satisfied: jupyterlab-widgets~=3.0.7 in d:\\machine learning\\comment_toxicity\\nlp\\lib\\site-packages (from ipywidgets) (3.0.7)\n",
      "Requirement already satisfied: comm>=0.1.1 in d:\\machine learning\\comment_toxicity\\nlp\\lib\\site-packages (from ipykernel>=4.5.1->ipywidgets) (0.1.3)\n",
      "Requirement already satisfied: debugpy>=1.6.5 in d:\\machine learning\\comment_toxicity\\nlp\\lib\\site-packages (from ipykernel>=4.5.1->ipywidgets) (1.6.7)\n",
      "Requirement already satisfied: jupyter-client>=6.1.12 in d:\\machine learning\\comment_toxicity\\nlp\\lib\\site-packages (from ipykernel>=4.5.1->ipywidgets) (8.3.0)\n",
      "Requirement already satisfied: jupyter-core!=5.0.*,>=4.12 in d:\\machine learning\\comment_toxicity\\nlp\\lib\\site-packages (from ipykernel>=4.5.1->ipywidgets) (5.3.1)\n",
      "Requirement already satisfied: matplotlib-inline>=0.1 in d:\\machine learning\\comment_toxicity\\nlp\\lib\\site-packages (from ipykernel>=4.5.1->ipywidgets) (0.1.6)\n",
      "Requirement already satisfied: nest-asyncio in d:\\machine learning\\comment_toxicity\\nlp\\lib\\site-packages (from ipykernel>=4.5.1->ipywidgets) (1.5.6)\n",
      "Requirement already satisfied: packaging in d:\\machine learning\\comment_toxicity\\nlp\\lib\\site-packages (from ipykernel>=4.5.1->ipywidgets) (23.1)\n",
      "Requirement already satisfied: psutil in d:\\machine learning\\comment_toxicity\\nlp\\lib\\site-packages (from ipykernel>=4.5.1->ipywidgets) (5.9.5)\n",
      "Requirement already satisfied: pyzmq>=20 in d:\\machine learning\\comment_toxicity\\nlp\\lib\\site-packages (from ipykernel>=4.5.1->ipywidgets) (25.1.0)\n",
      "Requirement already satisfied: tornado>=6.1 in d:\\machine learning\\comment_toxicity\\nlp\\lib\\site-packages (from ipykernel>=4.5.1->ipywidgets) (6.3.2)\n",
      "Requirement already satisfied: backcall in d:\\machine learning\\comment_toxicity\\nlp\\lib\\site-packages (from ipython>=6.1.0->ipywidgets) (0.2.0)\n",
      "Requirement already satisfied: decorator in d:\\machine learning\\comment_toxicity\\nlp\\lib\\site-packages (from ipython>=6.1.0->ipywidgets) (5.1.1)\n",
      "Requirement already satisfied: jedi>=0.16 in d:\\machine learning\\comment_toxicity\\nlp\\lib\\site-packages (from ipython>=6.1.0->ipywidgets) (0.18.2)\n",
      "Requirement already satisfied: pickleshare in d:\\machine learning\\comment_toxicity\\nlp\\lib\\site-packages (from ipython>=6.1.0->ipywidgets) (0.7.5)\n",
      "Requirement already satisfied: prompt-toolkit!=3.0.37,<3.1.0,>=3.0.30 in d:\\machine learning\\comment_toxicity\\nlp\\lib\\site-packages (from ipython>=6.1.0->ipywidgets) (3.0.38)\n",
      "Requirement already satisfied: pygments>=2.4.0 in d:\\machine learning\\comment_toxicity\\nlp\\lib\\site-packages (from ipython>=6.1.0->ipywidgets) (2.15.1)\n",
      "Requirement already satisfied: stack-data in d:\\machine learning\\comment_toxicity\\nlp\\lib\\site-packages (from ipython>=6.1.0->ipywidgets) (0.6.2)\n",
      "Requirement already satisfied: colorama in d:\\machine learning\\comment_toxicity\\nlp\\lib\\site-packages (from ipython>=6.1.0->ipywidgets) (0.4.6)\n",
      "Requirement already satisfied: parso<0.9.0,>=0.8.0 in d:\\machine learning\\comment_toxicity\\nlp\\lib\\site-packages (from jedi>=0.16->ipython>=6.1.0->ipywidgets) (0.8.3)\n",
      "Requirement already satisfied: python-dateutil>=2.8.2 in d:\\machine learning\\comment_toxicity\\nlp\\lib\\site-packages (from jupyter-client>=6.1.12->ipykernel>=4.5.1->ipywidgets) (2.8.2)\n",
      "Requirement already satisfied: platformdirs>=2.5 in d:\\machine learning\\comment_toxicity\\nlp\\lib\\site-packages (from jupyter-core!=5.0.*,>=4.12->ipykernel>=4.5.1->ipywidgets) (3.8.0)\n",
      "Requirement already satisfied: pywin32>=300 in d:\\machine learning\\comment_toxicity\\nlp\\lib\\site-packages (from jupyter-core!=5.0.*,>=4.12->ipykernel>=4.5.1->ipywidgets) (306)\n",
      "Requirement already satisfied: wcwidth in d:\\machine learning\\comment_toxicity\\nlp\\lib\\site-packages (from prompt-toolkit!=3.0.37,<3.1.0,>=3.0.30->ipython>=6.1.0->ipywidgets) (0.2.6)\n",
      "Requirement already satisfied: executing>=1.2.0 in d:\\machine learning\\comment_toxicity\\nlp\\lib\\site-packages (from stack-data->ipython>=6.1.0->ipywidgets) (1.2.0)\n",
      "Requirement already satisfied: asttokens>=2.1.0 in d:\\machine learning\\comment_toxicity\\nlp\\lib\\site-packages (from stack-data->ipython>=6.1.0->ipywidgets) (2.2.1)\n",
      "Requirement already satisfied: pure-eval in d:\\machine learning\\comment_toxicity\\nlp\\lib\\site-packages (from stack-data->ipython>=6.1.0->ipywidgets) (0.2.2)\n",
      "Requirement already satisfied: six in d:\\machine learning\\comment_toxicity\\nlp\\lib\\site-packages (from asttokens>=2.1.0->stack-data->ipython>=6.1.0->ipywidgets) (1.16.0)\n"
     ]
    },
    {
     "name": "stderr",
     "output_type": "stream",
     "text": [
      "Enabling notebook extension jupyter-js-widgets/extension...\n",
      "      - Validating: ok\n"
     ]
    }
   ],
   "source": [
    "!pip install ipywidgets\n",
    "!jupyter nbextension enable --py widgetsnbextension"
   ]
  },
  {
   "cell_type": "code",
   "execution_count": 126,
   "id": "f849afa3-d3a7-4ff7-a572-d1845870c834",
   "metadata": {},
   "outputs": [],
   "source": [
    "import gradio as gr"
   ]
  },
  {
   "cell_type": "code",
   "execution_count": 164,
   "id": "8e0ee3ea-5d8c-4ab8-86e2-a22a47ef0f0f",
   "metadata": {},
   "outputs": [],
   "source": [
    "model.save('models/toxicity.h5')"
   ]
  },
  {
   "cell_type": "code",
   "execution_count": 165,
   "id": "1bf4f740-80e2-4a3a-8af1-03b5bce59989",
   "metadata": {},
   "outputs": [],
   "source": [
    "model = tf.keras.models.load_model('models/toxicity.h5')"
   ]
  },
  {
   "cell_type": "code",
   "execution_count": 166,
   "id": "c372abd6-4b94-4218-807e-5ce9061bb008",
   "metadata": {},
   "outputs": [],
   "source": [
    "input_str = vectorizer('You freaking suck!')"
   ]
  },
  {
   "cell_type": "code",
   "execution_count": 167,
   "id": "06a98925-47d0-428f-8fab-89f77b06480e",
   "metadata": {},
   "outputs": [],
   "source": [
    "res = model.predict(np.expand_dims(input_str, 0))"
   ]
  },
  {
   "cell_type": "code",
   "execution_count": 168,
   "id": "e355d41b-14d9-4b74-825d-2d6e83392110",
   "metadata": {},
   "outputs": [
    {
     "data": {
      "text/plain": [
       "Index(['toxic', 'severe_toxic', 'obscene', 'threat', 'insult',\n",
       "       'identity_hate'],\n",
       "      dtype='object')"
      ]
     },
     "execution_count": 168,
     "metadata": {},
     "output_type": "execute_result"
    }
   ],
   "source": [
    "df.columns[2:]"
   ]
  },
  {
   "cell_type": "code",
   "execution_count": 169,
   "id": "a504077c-24cb-486a-a6dd-2ab00ec9230f",
   "metadata": {},
   "outputs": [
    {
     "data": {
      "text/plain": [
       "array([[0.9997433 , 0.1354193 , 0.9883477 , 0.00627956, 0.92309344,\n",
       "        0.01430006]], dtype=float32)"
      ]
     },
     "execution_count": 169,
     "metadata": {},
     "output_type": "execute_result"
    }
   ],
   "source": [
    "res"
   ]
  },
  {
   "cell_type": "code",
   "execution_count": 170,
   "id": "f29880e5-05a4-4507-9328-549a72a2e134",
   "metadata": {},
   "outputs": [],
   "source": [
    "# Function to add to gradio model\n",
    "def score_comment(comment):\n",
    "    # convert text into sequence of numbers\n",
    "    vectorized_comment = vectorizer([comment])\n",
    "    # predict using the model\n",
    "    results = model.predict(vectorized_comment)\n",
    "    \n",
    "    text = ''\n",
    "    # Loop through every column and unpack results\n",
    "    for idx, col in enumerate(df.columns[2:]):\n",
    "        text += '{}: {}\\n'.format(col, results[0][idx]>0.5) # take each index and say if > 0.5, print column and if is true\n",
    "        \n",
    "    return text"
   ]
  },
  {
   "cell_type": "code",
   "execution_count": 171,
   "id": "f39eb52b-359f-45ff-bf8e-6abc79c18d5c",
   "metadata": {},
   "outputs": [],
   "source": [
    "# Creating Gradio interface\n",
    "interface = gr.Interface(fn=score_comment,\n",
    "                        inputs=gr.components.Textbox(lines=2, placeholder='Comment to score'),\n",
    "                        outputs='text')"
   ]
  },
  {
   "cell_type": "code",
   "execution_count": 172,
   "id": "ed5bdfba-da94-44cd-aeb1-b80241d0c3c9",
   "metadata": {},
   "outputs": [
    {
     "name": "stdout",
     "output_type": "stream",
     "text": [
      "Running on local URL:  http://127.0.0.1:7861\n",
      "\n",
      "Could not create share link. Please check your internet connection or our status page: https://status.gradio.app. \n",
      "\n",
      "Also please ensure that your antivirus or firewall is not blocking the binary file located at: D:\\Machine Learning\\Comment_Toxicity\\NLP\\lib\\site-packages\\gradio\\frpc_windows_amd64_v0.2\n"
     ]
    },
    {
     "data": {
      "text/html": [
       "<div><iframe src=\"http://127.0.0.1:7861/\" width=\"100%\" height=\"500\" allow=\"autoplay; camera; microphone; clipboard-read; clipboard-write;\" frameborder=\"0\" allowfullscreen></iframe></div>"
      ],
      "text/plain": [
       "<IPython.core.display.HTML object>"
      ]
     },
     "metadata": {},
     "output_type": "display_data"
    },
    {
     "data": {
      "text/plain": []
     },
     "execution_count": 172,
     "metadata": {},
     "output_type": "execute_result"
    }
   ],
   "source": [
    "interface.launch(share=True) # share=True makes app public"
   ]
  },
  {
   "cell_type": "code",
   "execution_count": null,
   "id": "79fcc97d-043e-4a89-8fae-5538ae8bc082",
   "metadata": {},
   "outputs": [],
   "source": []
  }
 ],
 "metadata": {
  "kernelspec": {
   "display_name": "NLP",
   "language": "python",
   "name": "nlp"
  },
  "language_info": {
   "codemirror_mode": {
    "name": "ipython",
    "version": 3
   },
   "file_extension": ".py",
   "mimetype": "text/x-python",
   "name": "python",
   "nbconvert_exporter": "python",
   "pygments_lexer": "ipython3",
   "version": "3.10.9"
  }
 },
 "nbformat": 4,
 "nbformat_minor": 5
}
